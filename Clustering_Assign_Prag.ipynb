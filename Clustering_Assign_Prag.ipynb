{
  "nbformat": 4,
  "nbformat_minor": 0,
  "metadata": {
    "colab": {
      "provenance": []
    },
    "kernelspec": {
      "name": "python3",
      "display_name": "Python 3"
    },
    "language_info": {
      "name": "python"
    }
  },
  "cells": [
    {
      "cell_type": "markdown",
      "source": [
        "##  **Clustering Assignment**"
      ],
      "metadata": {
        "id": "wMKyWBcek7mS"
      }
    },
    {
      "cell_type": "markdown",
      "source": [
        "* Clustering is an 'unsupervised machine learning method' of identifying and grouping similar data points in larger datasets without concern for the specific outcome.\n",
        "* Clustering (sometimes called cluster analysis) is usually used to classify data into structures that are more easily understood and manipulated\n",
        "* Clustering is useful because it can help to find problems in the data, such as outliers.\n",
        "* It can also be used to improve the accuracy of machine learning models by providing more information about the structure of the data.\n",
        "\n",
        "\n",
        "\n"
      ],
      "metadata": {
        "id": "wb9kBpheqYhO"
      }
    },
    {
      "cell_type": "code",
      "source": [
        "#Importing necessary libraries\n",
        "\n",
        "import numpy as np\n",
        "import pandas as pd\n",
        "import seaborn as sns\n",
        "\n",
        "from sklearn.cluster import AgglomerativeClustering     #for Hierarchical clustering\n",
        "from sklearn.cluster import KMeans                      #for K-Means Clustering\n",
        "from sklearn.cluster import DBSCAN                      #for Density Based Spatial Clustering of Applications with Noise\n",
        "\n",
        "from sklearn.preprocessing import StandardScaler,MinMaxScaler,RobustScaler      #for Feature scaling\n",
        "import warnings\n",
        "warnings.filterwarnings('ignore')"
      ],
      "metadata": {
        "id": "uchEPUyVm660"
      },
      "execution_count": 64,
      "outputs": []
    },
    {
      "cell_type": "markdown",
      "source": [
        "Problem 1:<br>\n",
        "Perform Clustering (Hierarchical, Kmeans & DBSCAN) for the crime data and identify the number of clusters formed and draw inferences.<br>\n",
        "\n",
        "\n",
        "\n",
        "Data Description:\n",
        "\n",
        "\n",
        "> Murder -- Muder rates in different places of United States\n",
        "\n",
        "\n",
        "> Assualt- Assualt rate in different places of United States\n",
        "\n",
        "\n",
        "> UrbanPop - urban population in different places of United States\n",
        "\n",
        "\n",
        "> Rape - Rape rate in different places of United States"
      ],
      "metadata": {
        "id": "QHCmdub8liUH"
      }
    },
    {
      "cell_type": "code",
      "source": [
        "#Importing data\n",
        "\n",
        "crime_df=pd.read_csv('/content/crime_data.csv')\n",
        "crime_df"
      ],
      "metadata": {
        "colab": {
          "base_uri": "https://localhost:8080/",
          "height": 1000
        },
        "id": "d0WkJUF-rxy2",
        "outputId": "0b36edf8-4590-4440-949f-7bb4cf64c352"
      },
      "execution_count": 65,
      "outputs": [
        {
          "output_type": "execute_result",
          "data": {
            "text/plain": [
              "        Unnamed: 0  Murder  Assault  UrbanPop  Rape\n",
              "0          Alabama    13.2      236        58  21.2\n",
              "1           Alaska    10.0      263        48  44.5\n",
              "2          Arizona     8.1      294        80  31.0\n",
              "3         Arkansas     8.8      190        50  19.5\n",
              "4       California     9.0      276        91  40.6\n",
              "5         Colorado     7.9      204        78  38.7\n",
              "6      Connecticut     3.3      110        77  11.1\n",
              "7         Delaware     5.9      238        72  15.8\n",
              "8          Florida    15.4      335        80  31.9\n",
              "9          Georgia    17.4      211        60  25.8\n",
              "10          Hawaii     5.3       46        83  20.2\n",
              "11           Idaho     2.6      120        54  14.2\n",
              "12        Illinois    10.4      249        83  24.0\n",
              "13         Indiana     7.2      113        65  21.0\n",
              "14            Iowa     2.2       56        57  11.3\n",
              "15          Kansas     6.0      115        66  18.0\n",
              "16        Kentucky     9.7      109        52  16.3\n",
              "17       Louisiana    15.4      249        66  22.2\n",
              "18           Maine     2.1       83        51   7.8\n",
              "19        Maryland    11.3      300        67  27.8\n",
              "20   Massachusetts     4.4      149        85  16.3\n",
              "21        Michigan    12.1      255        74  35.1\n",
              "22       Minnesota     2.7       72        66  14.9\n",
              "23     Mississippi    16.1      259        44  17.1\n",
              "24        Missouri     9.0      178        70  28.2\n",
              "25         Montana     6.0      109        53  16.4\n",
              "26        Nebraska     4.3      102        62  16.5\n",
              "27          Nevada    12.2      252        81  46.0\n",
              "28   New Hampshire     2.1       57        56   9.5\n",
              "29      New Jersey     7.4      159        89  18.8\n",
              "30      New Mexico    11.4      285        70  32.1\n",
              "31        New York    11.1      254        86  26.1\n",
              "32  North Carolina    13.0      337        45  16.1\n",
              "33    North Dakota     0.8       45        44   7.3\n",
              "34            Ohio     7.3      120        75  21.4\n",
              "35        Oklahoma     6.6      151        68  20.0\n",
              "36          Oregon     4.9      159        67  29.3\n",
              "37    Pennsylvania     6.3      106        72  14.9\n",
              "38    Rhode Island     3.4      174        87   8.3\n",
              "39  South Carolina    14.4      279        48  22.5\n",
              "40    South Dakota     3.8       86        45  12.8\n",
              "41       Tennessee    13.2      188        59  26.9\n",
              "42           Texas    12.7      201        80  25.5\n",
              "43            Utah     3.2      120        80  22.9\n",
              "44         Vermont     2.2       48        32  11.2\n",
              "45        Virginia     8.5      156        63  20.7\n",
              "46      Washington     4.0      145        73  26.2\n",
              "47   West Virginia     5.7       81        39   9.3\n",
              "48       Wisconsin     2.6       53        66  10.8\n",
              "49         Wyoming     6.8      161        60  15.6"
            ],
            "text/html": [
              "\n",
              "  <div id=\"df-b0e9e27c-6bcb-4170-8422-ff9158a6646a\" class=\"colab-df-container\">\n",
              "    <div>\n",
              "<style scoped>\n",
              "    .dataframe tbody tr th:only-of-type {\n",
              "        vertical-align: middle;\n",
              "    }\n",
              "\n",
              "    .dataframe tbody tr th {\n",
              "        vertical-align: top;\n",
              "    }\n",
              "\n",
              "    .dataframe thead th {\n",
              "        text-align: right;\n",
              "    }\n",
              "</style>\n",
              "<table border=\"1\" class=\"dataframe\">\n",
              "  <thead>\n",
              "    <tr style=\"text-align: right;\">\n",
              "      <th></th>\n",
              "      <th>Unnamed: 0</th>\n",
              "      <th>Murder</th>\n",
              "      <th>Assault</th>\n",
              "      <th>UrbanPop</th>\n",
              "      <th>Rape</th>\n",
              "    </tr>\n",
              "  </thead>\n",
              "  <tbody>\n",
              "    <tr>\n",
              "      <th>0</th>\n",
              "      <td>Alabama</td>\n",
              "      <td>13.2</td>\n",
              "      <td>236</td>\n",
              "      <td>58</td>\n",
              "      <td>21.2</td>\n",
              "    </tr>\n",
              "    <tr>\n",
              "      <th>1</th>\n",
              "      <td>Alaska</td>\n",
              "      <td>10.0</td>\n",
              "      <td>263</td>\n",
              "      <td>48</td>\n",
              "      <td>44.5</td>\n",
              "    </tr>\n",
              "    <tr>\n",
              "      <th>2</th>\n",
              "      <td>Arizona</td>\n",
              "      <td>8.1</td>\n",
              "      <td>294</td>\n",
              "      <td>80</td>\n",
              "      <td>31.0</td>\n",
              "    </tr>\n",
              "    <tr>\n",
              "      <th>3</th>\n",
              "      <td>Arkansas</td>\n",
              "      <td>8.8</td>\n",
              "      <td>190</td>\n",
              "      <td>50</td>\n",
              "      <td>19.5</td>\n",
              "    </tr>\n",
              "    <tr>\n",
              "      <th>4</th>\n",
              "      <td>California</td>\n",
              "      <td>9.0</td>\n",
              "      <td>276</td>\n",
              "      <td>91</td>\n",
              "      <td>40.6</td>\n",
              "    </tr>\n",
              "    <tr>\n",
              "      <th>5</th>\n",
              "      <td>Colorado</td>\n",
              "      <td>7.9</td>\n",
              "      <td>204</td>\n",
              "      <td>78</td>\n",
              "      <td>38.7</td>\n",
              "    </tr>\n",
              "    <tr>\n",
              "      <th>6</th>\n",
              "      <td>Connecticut</td>\n",
              "      <td>3.3</td>\n",
              "      <td>110</td>\n",
              "      <td>77</td>\n",
              "      <td>11.1</td>\n",
              "    </tr>\n",
              "    <tr>\n",
              "      <th>7</th>\n",
              "      <td>Delaware</td>\n",
              "      <td>5.9</td>\n",
              "      <td>238</td>\n",
              "      <td>72</td>\n",
              "      <td>15.8</td>\n",
              "    </tr>\n",
              "    <tr>\n",
              "      <th>8</th>\n",
              "      <td>Florida</td>\n",
              "      <td>15.4</td>\n",
              "      <td>335</td>\n",
              "      <td>80</td>\n",
              "      <td>31.9</td>\n",
              "    </tr>\n",
              "    <tr>\n",
              "      <th>9</th>\n",
              "      <td>Georgia</td>\n",
              "      <td>17.4</td>\n",
              "      <td>211</td>\n",
              "      <td>60</td>\n",
              "      <td>25.8</td>\n",
              "    </tr>\n",
              "    <tr>\n",
              "      <th>10</th>\n",
              "      <td>Hawaii</td>\n",
              "      <td>5.3</td>\n",
              "      <td>46</td>\n",
              "      <td>83</td>\n",
              "      <td>20.2</td>\n",
              "    </tr>\n",
              "    <tr>\n",
              "      <th>11</th>\n",
              "      <td>Idaho</td>\n",
              "      <td>2.6</td>\n",
              "      <td>120</td>\n",
              "      <td>54</td>\n",
              "      <td>14.2</td>\n",
              "    </tr>\n",
              "    <tr>\n",
              "      <th>12</th>\n",
              "      <td>Illinois</td>\n",
              "      <td>10.4</td>\n",
              "      <td>249</td>\n",
              "      <td>83</td>\n",
              "      <td>24.0</td>\n",
              "    </tr>\n",
              "    <tr>\n",
              "      <th>13</th>\n",
              "      <td>Indiana</td>\n",
              "      <td>7.2</td>\n",
              "      <td>113</td>\n",
              "      <td>65</td>\n",
              "      <td>21.0</td>\n",
              "    </tr>\n",
              "    <tr>\n",
              "      <th>14</th>\n",
              "      <td>Iowa</td>\n",
              "      <td>2.2</td>\n",
              "      <td>56</td>\n",
              "      <td>57</td>\n",
              "      <td>11.3</td>\n",
              "    </tr>\n",
              "    <tr>\n",
              "      <th>15</th>\n",
              "      <td>Kansas</td>\n",
              "      <td>6.0</td>\n",
              "      <td>115</td>\n",
              "      <td>66</td>\n",
              "      <td>18.0</td>\n",
              "    </tr>\n",
              "    <tr>\n",
              "      <th>16</th>\n",
              "      <td>Kentucky</td>\n",
              "      <td>9.7</td>\n",
              "      <td>109</td>\n",
              "      <td>52</td>\n",
              "      <td>16.3</td>\n",
              "    </tr>\n",
              "    <tr>\n",
              "      <th>17</th>\n",
              "      <td>Louisiana</td>\n",
              "      <td>15.4</td>\n",
              "      <td>249</td>\n",
              "      <td>66</td>\n",
              "      <td>22.2</td>\n",
              "    </tr>\n",
              "    <tr>\n",
              "      <th>18</th>\n",
              "      <td>Maine</td>\n",
              "      <td>2.1</td>\n",
              "      <td>83</td>\n",
              "      <td>51</td>\n",
              "      <td>7.8</td>\n",
              "    </tr>\n",
              "    <tr>\n",
              "      <th>19</th>\n",
              "      <td>Maryland</td>\n",
              "      <td>11.3</td>\n",
              "      <td>300</td>\n",
              "      <td>67</td>\n",
              "      <td>27.8</td>\n",
              "    </tr>\n",
              "    <tr>\n",
              "      <th>20</th>\n",
              "      <td>Massachusetts</td>\n",
              "      <td>4.4</td>\n",
              "      <td>149</td>\n",
              "      <td>85</td>\n",
              "      <td>16.3</td>\n",
              "    </tr>\n",
              "    <tr>\n",
              "      <th>21</th>\n",
              "      <td>Michigan</td>\n",
              "      <td>12.1</td>\n",
              "      <td>255</td>\n",
              "      <td>74</td>\n",
              "      <td>35.1</td>\n",
              "    </tr>\n",
              "    <tr>\n",
              "      <th>22</th>\n",
              "      <td>Minnesota</td>\n",
              "      <td>2.7</td>\n",
              "      <td>72</td>\n",
              "      <td>66</td>\n",
              "      <td>14.9</td>\n",
              "    </tr>\n",
              "    <tr>\n",
              "      <th>23</th>\n",
              "      <td>Mississippi</td>\n",
              "      <td>16.1</td>\n",
              "      <td>259</td>\n",
              "      <td>44</td>\n",
              "      <td>17.1</td>\n",
              "    </tr>\n",
              "    <tr>\n",
              "      <th>24</th>\n",
              "      <td>Missouri</td>\n",
              "      <td>9.0</td>\n",
              "      <td>178</td>\n",
              "      <td>70</td>\n",
              "      <td>28.2</td>\n",
              "    </tr>\n",
              "    <tr>\n",
              "      <th>25</th>\n",
              "      <td>Montana</td>\n",
              "      <td>6.0</td>\n",
              "      <td>109</td>\n",
              "      <td>53</td>\n",
              "      <td>16.4</td>\n",
              "    </tr>\n",
              "    <tr>\n",
              "      <th>26</th>\n",
              "      <td>Nebraska</td>\n",
              "      <td>4.3</td>\n",
              "      <td>102</td>\n",
              "      <td>62</td>\n",
              "      <td>16.5</td>\n",
              "    </tr>\n",
              "    <tr>\n",
              "      <th>27</th>\n",
              "      <td>Nevada</td>\n",
              "      <td>12.2</td>\n",
              "      <td>252</td>\n",
              "      <td>81</td>\n",
              "      <td>46.0</td>\n",
              "    </tr>\n",
              "    <tr>\n",
              "      <th>28</th>\n",
              "      <td>New Hampshire</td>\n",
              "      <td>2.1</td>\n",
              "      <td>57</td>\n",
              "      <td>56</td>\n",
              "      <td>9.5</td>\n",
              "    </tr>\n",
              "    <tr>\n",
              "      <th>29</th>\n",
              "      <td>New Jersey</td>\n",
              "      <td>7.4</td>\n",
              "      <td>159</td>\n",
              "      <td>89</td>\n",
              "      <td>18.8</td>\n",
              "    </tr>\n",
              "    <tr>\n",
              "      <th>30</th>\n",
              "      <td>New Mexico</td>\n",
              "      <td>11.4</td>\n",
              "      <td>285</td>\n",
              "      <td>70</td>\n",
              "      <td>32.1</td>\n",
              "    </tr>\n",
              "    <tr>\n",
              "      <th>31</th>\n",
              "      <td>New York</td>\n",
              "      <td>11.1</td>\n",
              "      <td>254</td>\n",
              "      <td>86</td>\n",
              "      <td>26.1</td>\n",
              "    </tr>\n",
              "    <tr>\n",
              "      <th>32</th>\n",
              "      <td>North Carolina</td>\n",
              "      <td>13.0</td>\n",
              "      <td>337</td>\n",
              "      <td>45</td>\n",
              "      <td>16.1</td>\n",
              "    </tr>\n",
              "    <tr>\n",
              "      <th>33</th>\n",
              "      <td>North Dakota</td>\n",
              "      <td>0.8</td>\n",
              "      <td>45</td>\n",
              "      <td>44</td>\n",
              "      <td>7.3</td>\n",
              "    </tr>\n",
              "    <tr>\n",
              "      <th>34</th>\n",
              "      <td>Ohio</td>\n",
              "      <td>7.3</td>\n",
              "      <td>120</td>\n",
              "      <td>75</td>\n",
              "      <td>21.4</td>\n",
              "    </tr>\n",
              "    <tr>\n",
              "      <th>35</th>\n",
              "      <td>Oklahoma</td>\n",
              "      <td>6.6</td>\n",
              "      <td>151</td>\n",
              "      <td>68</td>\n",
              "      <td>20.0</td>\n",
              "    </tr>\n",
              "    <tr>\n",
              "      <th>36</th>\n",
              "      <td>Oregon</td>\n",
              "      <td>4.9</td>\n",
              "      <td>159</td>\n",
              "      <td>67</td>\n",
              "      <td>29.3</td>\n",
              "    </tr>\n",
              "    <tr>\n",
              "      <th>37</th>\n",
              "      <td>Pennsylvania</td>\n",
              "      <td>6.3</td>\n",
              "      <td>106</td>\n",
              "      <td>72</td>\n",
              "      <td>14.9</td>\n",
              "    </tr>\n",
              "    <tr>\n",
              "      <th>38</th>\n",
              "      <td>Rhode Island</td>\n",
              "      <td>3.4</td>\n",
              "      <td>174</td>\n",
              "      <td>87</td>\n",
              "      <td>8.3</td>\n",
              "    </tr>\n",
              "    <tr>\n",
              "      <th>39</th>\n",
              "      <td>South Carolina</td>\n",
              "      <td>14.4</td>\n",
              "      <td>279</td>\n",
              "      <td>48</td>\n",
              "      <td>22.5</td>\n",
              "    </tr>\n",
              "    <tr>\n",
              "      <th>40</th>\n",
              "      <td>South Dakota</td>\n",
              "      <td>3.8</td>\n",
              "      <td>86</td>\n",
              "      <td>45</td>\n",
              "      <td>12.8</td>\n",
              "    </tr>\n",
              "    <tr>\n",
              "      <th>41</th>\n",
              "      <td>Tennessee</td>\n",
              "      <td>13.2</td>\n",
              "      <td>188</td>\n",
              "      <td>59</td>\n",
              "      <td>26.9</td>\n",
              "    </tr>\n",
              "    <tr>\n",
              "      <th>42</th>\n",
              "      <td>Texas</td>\n",
              "      <td>12.7</td>\n",
              "      <td>201</td>\n",
              "      <td>80</td>\n",
              "      <td>25.5</td>\n",
              "    </tr>\n",
              "    <tr>\n",
              "      <th>43</th>\n",
              "      <td>Utah</td>\n",
              "      <td>3.2</td>\n",
              "      <td>120</td>\n",
              "      <td>80</td>\n",
              "      <td>22.9</td>\n",
              "    </tr>\n",
              "    <tr>\n",
              "      <th>44</th>\n",
              "      <td>Vermont</td>\n",
              "      <td>2.2</td>\n",
              "      <td>48</td>\n",
              "      <td>32</td>\n",
              "      <td>11.2</td>\n",
              "    </tr>\n",
              "    <tr>\n",
              "      <th>45</th>\n",
              "      <td>Virginia</td>\n",
              "      <td>8.5</td>\n",
              "      <td>156</td>\n",
              "      <td>63</td>\n",
              "      <td>20.7</td>\n",
              "    </tr>\n",
              "    <tr>\n",
              "      <th>46</th>\n",
              "      <td>Washington</td>\n",
              "      <td>4.0</td>\n",
              "      <td>145</td>\n",
              "      <td>73</td>\n",
              "      <td>26.2</td>\n",
              "    </tr>\n",
              "    <tr>\n",
              "      <th>47</th>\n",
              "      <td>West Virginia</td>\n",
              "      <td>5.7</td>\n",
              "      <td>81</td>\n",
              "      <td>39</td>\n",
              "      <td>9.3</td>\n",
              "    </tr>\n",
              "    <tr>\n",
              "      <th>48</th>\n",
              "      <td>Wisconsin</td>\n",
              "      <td>2.6</td>\n",
              "      <td>53</td>\n",
              "      <td>66</td>\n",
              "      <td>10.8</td>\n",
              "    </tr>\n",
              "    <tr>\n",
              "      <th>49</th>\n",
              "      <td>Wyoming</td>\n",
              "      <td>6.8</td>\n",
              "      <td>161</td>\n",
              "      <td>60</td>\n",
              "      <td>15.6</td>\n",
              "    </tr>\n",
              "  </tbody>\n",
              "</table>\n",
              "</div>\n",
              "    <div class=\"colab-df-buttons\">\n",
              "\n",
              "  <div class=\"colab-df-container\">\n",
              "    <button class=\"colab-df-convert\" onclick=\"convertToInteractive('df-b0e9e27c-6bcb-4170-8422-ff9158a6646a')\"\n",
              "            title=\"Convert this dataframe to an interactive table.\"\n",
              "            style=\"display:none;\">\n",
              "\n",
              "  <svg xmlns=\"http://www.w3.org/2000/svg\" height=\"24px\" viewBox=\"0 -960 960 960\">\n",
              "    <path d=\"M120-120v-720h720v720H120Zm60-500h600v-160H180v160Zm220 220h160v-160H400v160Zm0 220h160v-160H400v160ZM180-400h160v-160H180v160Zm440 0h160v-160H620v160ZM180-180h160v-160H180v160Zm440 0h160v-160H620v160Z\"/>\n",
              "  </svg>\n",
              "    </button>\n",
              "\n",
              "  <style>\n",
              "    .colab-df-container {\n",
              "      display:flex;\n",
              "      gap: 12px;\n",
              "    }\n",
              "\n",
              "    .colab-df-convert {\n",
              "      background-color: #E8F0FE;\n",
              "      border: none;\n",
              "      border-radius: 50%;\n",
              "      cursor: pointer;\n",
              "      display: none;\n",
              "      fill: #1967D2;\n",
              "      height: 32px;\n",
              "      padding: 0 0 0 0;\n",
              "      width: 32px;\n",
              "    }\n",
              "\n",
              "    .colab-df-convert:hover {\n",
              "      background-color: #E2EBFA;\n",
              "      box-shadow: 0px 1px 2px rgba(60, 64, 67, 0.3), 0px 1px 3px 1px rgba(60, 64, 67, 0.15);\n",
              "      fill: #174EA6;\n",
              "    }\n",
              "\n",
              "    .colab-df-buttons div {\n",
              "      margin-bottom: 4px;\n",
              "    }\n",
              "\n",
              "    [theme=dark] .colab-df-convert {\n",
              "      background-color: #3B4455;\n",
              "      fill: #D2E3FC;\n",
              "    }\n",
              "\n",
              "    [theme=dark] .colab-df-convert:hover {\n",
              "      background-color: #434B5C;\n",
              "      box-shadow: 0px 1px 3px 1px rgba(0, 0, 0, 0.15);\n",
              "      filter: drop-shadow(0px 1px 2px rgba(0, 0, 0, 0.3));\n",
              "      fill: #FFFFFF;\n",
              "    }\n",
              "  </style>\n",
              "\n",
              "    <script>\n",
              "      const buttonEl =\n",
              "        document.querySelector('#df-b0e9e27c-6bcb-4170-8422-ff9158a6646a button.colab-df-convert');\n",
              "      buttonEl.style.display =\n",
              "        google.colab.kernel.accessAllowed ? 'block' : 'none';\n",
              "\n",
              "      async function convertToInteractive(key) {\n",
              "        const element = document.querySelector('#df-b0e9e27c-6bcb-4170-8422-ff9158a6646a');\n",
              "        const dataTable =\n",
              "          await google.colab.kernel.invokeFunction('convertToInteractive',\n",
              "                                                    [key], {});\n",
              "        if (!dataTable) return;\n",
              "\n",
              "        const docLinkHtml = 'Like what you see? Visit the ' +\n",
              "          '<a target=\"_blank\" href=https://colab.research.google.com/notebooks/data_table.ipynb>data table notebook</a>'\n",
              "          + ' to learn more about interactive tables.';\n",
              "        element.innerHTML = '';\n",
              "        dataTable['output_type'] = 'display_data';\n",
              "        await google.colab.output.renderOutput(dataTable, element);\n",
              "        const docLink = document.createElement('div');\n",
              "        docLink.innerHTML = docLinkHtml;\n",
              "        element.appendChild(docLink);\n",
              "      }\n",
              "    </script>\n",
              "  </div>\n",
              "\n",
              "\n",
              "<div id=\"df-07fcdc34-277c-49c8-934e-bf4bc3155f32\">\n",
              "  <button class=\"colab-df-quickchart\" onclick=\"quickchart('df-07fcdc34-277c-49c8-934e-bf4bc3155f32')\"\n",
              "            title=\"Suggest charts\"\n",
              "            style=\"display:none;\">\n",
              "\n",
              "<svg xmlns=\"http://www.w3.org/2000/svg\" height=\"24px\"viewBox=\"0 0 24 24\"\n",
              "     width=\"24px\">\n",
              "    <g>\n",
              "        <path d=\"M19 3H5c-1.1 0-2 .9-2 2v14c0 1.1.9 2 2 2h14c1.1 0 2-.9 2-2V5c0-1.1-.9-2-2-2zM9 17H7v-7h2v7zm4 0h-2V7h2v10zm4 0h-2v-4h2v4z\"/>\n",
              "    </g>\n",
              "</svg>\n",
              "  </button>\n",
              "\n",
              "<style>\n",
              "  .colab-df-quickchart {\n",
              "      --bg-color: #E8F0FE;\n",
              "      --fill-color: #1967D2;\n",
              "      --hover-bg-color: #E2EBFA;\n",
              "      --hover-fill-color: #174EA6;\n",
              "      --disabled-fill-color: #AAA;\n",
              "      --disabled-bg-color: #DDD;\n",
              "  }\n",
              "\n",
              "  [theme=dark] .colab-df-quickchart {\n",
              "      --bg-color: #3B4455;\n",
              "      --fill-color: #D2E3FC;\n",
              "      --hover-bg-color: #434B5C;\n",
              "      --hover-fill-color: #FFFFFF;\n",
              "      --disabled-bg-color: #3B4455;\n",
              "      --disabled-fill-color: #666;\n",
              "  }\n",
              "\n",
              "  .colab-df-quickchart {\n",
              "    background-color: var(--bg-color);\n",
              "    border: none;\n",
              "    border-radius: 50%;\n",
              "    cursor: pointer;\n",
              "    display: none;\n",
              "    fill: var(--fill-color);\n",
              "    height: 32px;\n",
              "    padding: 0;\n",
              "    width: 32px;\n",
              "  }\n",
              "\n",
              "  .colab-df-quickchart:hover {\n",
              "    background-color: var(--hover-bg-color);\n",
              "    box-shadow: 0 1px 2px rgba(60, 64, 67, 0.3), 0 1px 3px 1px rgba(60, 64, 67, 0.15);\n",
              "    fill: var(--button-hover-fill-color);\n",
              "  }\n",
              "\n",
              "  .colab-df-quickchart-complete:disabled,\n",
              "  .colab-df-quickchart-complete:disabled:hover {\n",
              "    background-color: var(--disabled-bg-color);\n",
              "    fill: var(--disabled-fill-color);\n",
              "    box-shadow: none;\n",
              "  }\n",
              "\n",
              "  .colab-df-spinner {\n",
              "    border: 2px solid var(--fill-color);\n",
              "    border-color: transparent;\n",
              "    border-bottom-color: var(--fill-color);\n",
              "    animation:\n",
              "      spin 1s steps(1) infinite;\n",
              "  }\n",
              "\n",
              "  @keyframes spin {\n",
              "    0% {\n",
              "      border-color: transparent;\n",
              "      border-bottom-color: var(--fill-color);\n",
              "      border-left-color: var(--fill-color);\n",
              "    }\n",
              "    20% {\n",
              "      border-color: transparent;\n",
              "      border-left-color: var(--fill-color);\n",
              "      border-top-color: var(--fill-color);\n",
              "    }\n",
              "    30% {\n",
              "      border-color: transparent;\n",
              "      border-left-color: var(--fill-color);\n",
              "      border-top-color: var(--fill-color);\n",
              "      border-right-color: var(--fill-color);\n",
              "    }\n",
              "    40% {\n",
              "      border-color: transparent;\n",
              "      border-right-color: var(--fill-color);\n",
              "      border-top-color: var(--fill-color);\n",
              "    }\n",
              "    60% {\n",
              "      border-color: transparent;\n",
              "      border-right-color: var(--fill-color);\n",
              "    }\n",
              "    80% {\n",
              "      border-color: transparent;\n",
              "      border-right-color: var(--fill-color);\n",
              "      border-bottom-color: var(--fill-color);\n",
              "    }\n",
              "    90% {\n",
              "      border-color: transparent;\n",
              "      border-bottom-color: var(--fill-color);\n",
              "    }\n",
              "  }\n",
              "</style>\n",
              "\n",
              "  <script>\n",
              "    async function quickchart(key) {\n",
              "      const quickchartButtonEl =\n",
              "        document.querySelector('#' + key + ' button');\n",
              "      quickchartButtonEl.disabled = true;  // To prevent multiple clicks.\n",
              "      quickchartButtonEl.classList.add('colab-df-spinner');\n",
              "      try {\n",
              "        const charts = await google.colab.kernel.invokeFunction(\n",
              "            'suggestCharts', [key], {});\n",
              "      } catch (error) {\n",
              "        console.error('Error during call to suggestCharts:', error);\n",
              "      }\n",
              "      quickchartButtonEl.classList.remove('colab-df-spinner');\n",
              "      quickchartButtonEl.classList.add('colab-df-quickchart-complete');\n",
              "    }\n",
              "    (() => {\n",
              "      let quickchartButtonEl =\n",
              "        document.querySelector('#df-07fcdc34-277c-49c8-934e-bf4bc3155f32 button');\n",
              "      quickchartButtonEl.style.display =\n",
              "        google.colab.kernel.accessAllowed ? 'block' : 'none';\n",
              "    })();\n",
              "  </script>\n",
              "</div>\n",
              "    </div>\n",
              "  </div>\n"
            ]
          },
          "metadata": {},
          "execution_count": 65
        }
      ]
    },
    {
      "cell_type": "code",
      "source": [
        "features=crime_df.iloc[:,1:]\n",
        "features.head(5)"
      ],
      "metadata": {
        "colab": {
          "base_uri": "https://localhost:8080/",
          "height": 206
        },
        "id": "B6T2eTQIsNNg",
        "outputId": "0e6969ef-8253-448d-d15c-92ff6c2056d0"
      },
      "execution_count": 66,
      "outputs": [
        {
          "output_type": "execute_result",
          "data": {
            "text/plain": [
              "   Murder  Assault  UrbanPop  Rape\n",
              "0    13.2      236        58  21.2\n",
              "1    10.0      263        48  44.5\n",
              "2     8.1      294        80  31.0\n",
              "3     8.8      190        50  19.5\n",
              "4     9.0      276        91  40.6"
            ],
            "text/html": [
              "\n",
              "  <div id=\"df-a226f986-37a1-4b24-ac02-85694838e3f0\" class=\"colab-df-container\">\n",
              "    <div>\n",
              "<style scoped>\n",
              "    .dataframe tbody tr th:only-of-type {\n",
              "        vertical-align: middle;\n",
              "    }\n",
              "\n",
              "    .dataframe tbody tr th {\n",
              "        vertical-align: top;\n",
              "    }\n",
              "\n",
              "    .dataframe thead th {\n",
              "        text-align: right;\n",
              "    }\n",
              "</style>\n",
              "<table border=\"1\" class=\"dataframe\">\n",
              "  <thead>\n",
              "    <tr style=\"text-align: right;\">\n",
              "      <th></th>\n",
              "      <th>Murder</th>\n",
              "      <th>Assault</th>\n",
              "      <th>UrbanPop</th>\n",
              "      <th>Rape</th>\n",
              "    </tr>\n",
              "  </thead>\n",
              "  <tbody>\n",
              "    <tr>\n",
              "      <th>0</th>\n",
              "      <td>13.2</td>\n",
              "      <td>236</td>\n",
              "      <td>58</td>\n",
              "      <td>21.2</td>\n",
              "    </tr>\n",
              "    <tr>\n",
              "      <th>1</th>\n",
              "      <td>10.0</td>\n",
              "      <td>263</td>\n",
              "      <td>48</td>\n",
              "      <td>44.5</td>\n",
              "    </tr>\n",
              "    <tr>\n",
              "      <th>2</th>\n",
              "      <td>8.1</td>\n",
              "      <td>294</td>\n",
              "      <td>80</td>\n",
              "      <td>31.0</td>\n",
              "    </tr>\n",
              "    <tr>\n",
              "      <th>3</th>\n",
              "      <td>8.8</td>\n",
              "      <td>190</td>\n",
              "      <td>50</td>\n",
              "      <td>19.5</td>\n",
              "    </tr>\n",
              "    <tr>\n",
              "      <th>4</th>\n",
              "      <td>9.0</td>\n",
              "      <td>276</td>\n",
              "      <td>91</td>\n",
              "      <td>40.6</td>\n",
              "    </tr>\n",
              "  </tbody>\n",
              "</table>\n",
              "</div>\n",
              "    <div class=\"colab-df-buttons\">\n",
              "\n",
              "  <div class=\"colab-df-container\">\n",
              "    <button class=\"colab-df-convert\" onclick=\"convertToInteractive('df-a226f986-37a1-4b24-ac02-85694838e3f0')\"\n",
              "            title=\"Convert this dataframe to an interactive table.\"\n",
              "            style=\"display:none;\">\n",
              "\n",
              "  <svg xmlns=\"http://www.w3.org/2000/svg\" height=\"24px\" viewBox=\"0 -960 960 960\">\n",
              "    <path d=\"M120-120v-720h720v720H120Zm60-500h600v-160H180v160Zm220 220h160v-160H400v160Zm0 220h160v-160H400v160ZM180-400h160v-160H180v160Zm440 0h160v-160H620v160ZM180-180h160v-160H180v160Zm440 0h160v-160H620v160Z\"/>\n",
              "  </svg>\n",
              "    </button>\n",
              "\n",
              "  <style>\n",
              "    .colab-df-container {\n",
              "      display:flex;\n",
              "      gap: 12px;\n",
              "    }\n",
              "\n",
              "    .colab-df-convert {\n",
              "      background-color: #E8F0FE;\n",
              "      border: none;\n",
              "      border-radius: 50%;\n",
              "      cursor: pointer;\n",
              "      display: none;\n",
              "      fill: #1967D2;\n",
              "      height: 32px;\n",
              "      padding: 0 0 0 0;\n",
              "      width: 32px;\n",
              "    }\n",
              "\n",
              "    .colab-df-convert:hover {\n",
              "      background-color: #E2EBFA;\n",
              "      box-shadow: 0px 1px 2px rgba(60, 64, 67, 0.3), 0px 1px 3px 1px rgba(60, 64, 67, 0.15);\n",
              "      fill: #174EA6;\n",
              "    }\n",
              "\n",
              "    .colab-df-buttons div {\n",
              "      margin-bottom: 4px;\n",
              "    }\n",
              "\n",
              "    [theme=dark] .colab-df-convert {\n",
              "      background-color: #3B4455;\n",
              "      fill: #D2E3FC;\n",
              "    }\n",
              "\n",
              "    [theme=dark] .colab-df-convert:hover {\n",
              "      background-color: #434B5C;\n",
              "      box-shadow: 0px 1px 3px 1px rgba(0, 0, 0, 0.15);\n",
              "      filter: drop-shadow(0px 1px 2px rgba(0, 0, 0, 0.3));\n",
              "      fill: #FFFFFF;\n",
              "    }\n",
              "  </style>\n",
              "\n",
              "    <script>\n",
              "      const buttonEl =\n",
              "        document.querySelector('#df-a226f986-37a1-4b24-ac02-85694838e3f0 button.colab-df-convert');\n",
              "      buttonEl.style.display =\n",
              "        google.colab.kernel.accessAllowed ? 'block' : 'none';\n",
              "\n",
              "      async function convertToInteractive(key) {\n",
              "        const element = document.querySelector('#df-a226f986-37a1-4b24-ac02-85694838e3f0');\n",
              "        const dataTable =\n",
              "          await google.colab.kernel.invokeFunction('convertToInteractive',\n",
              "                                                    [key], {});\n",
              "        if (!dataTable) return;\n",
              "\n",
              "        const docLinkHtml = 'Like what you see? Visit the ' +\n",
              "          '<a target=\"_blank\" href=https://colab.research.google.com/notebooks/data_table.ipynb>data table notebook</a>'\n",
              "          + ' to learn more about interactive tables.';\n",
              "        element.innerHTML = '';\n",
              "        dataTable['output_type'] = 'display_data';\n",
              "        await google.colab.output.renderOutput(dataTable, element);\n",
              "        const docLink = document.createElement('div');\n",
              "        docLink.innerHTML = docLinkHtml;\n",
              "        element.appendChild(docLink);\n",
              "      }\n",
              "    </script>\n",
              "  </div>\n",
              "\n",
              "\n",
              "<div id=\"df-abcdf5c4-7347-455a-a6b0-fb346bbe11db\">\n",
              "  <button class=\"colab-df-quickchart\" onclick=\"quickchart('df-abcdf5c4-7347-455a-a6b0-fb346bbe11db')\"\n",
              "            title=\"Suggest charts\"\n",
              "            style=\"display:none;\">\n",
              "\n",
              "<svg xmlns=\"http://www.w3.org/2000/svg\" height=\"24px\"viewBox=\"0 0 24 24\"\n",
              "     width=\"24px\">\n",
              "    <g>\n",
              "        <path d=\"M19 3H5c-1.1 0-2 .9-2 2v14c0 1.1.9 2 2 2h14c1.1 0 2-.9 2-2V5c0-1.1-.9-2-2-2zM9 17H7v-7h2v7zm4 0h-2V7h2v10zm4 0h-2v-4h2v4z\"/>\n",
              "    </g>\n",
              "</svg>\n",
              "  </button>\n",
              "\n",
              "<style>\n",
              "  .colab-df-quickchart {\n",
              "      --bg-color: #E8F0FE;\n",
              "      --fill-color: #1967D2;\n",
              "      --hover-bg-color: #E2EBFA;\n",
              "      --hover-fill-color: #174EA6;\n",
              "      --disabled-fill-color: #AAA;\n",
              "      --disabled-bg-color: #DDD;\n",
              "  }\n",
              "\n",
              "  [theme=dark] .colab-df-quickchart {\n",
              "      --bg-color: #3B4455;\n",
              "      --fill-color: #D2E3FC;\n",
              "      --hover-bg-color: #434B5C;\n",
              "      --hover-fill-color: #FFFFFF;\n",
              "      --disabled-bg-color: #3B4455;\n",
              "      --disabled-fill-color: #666;\n",
              "  }\n",
              "\n",
              "  .colab-df-quickchart {\n",
              "    background-color: var(--bg-color);\n",
              "    border: none;\n",
              "    border-radius: 50%;\n",
              "    cursor: pointer;\n",
              "    display: none;\n",
              "    fill: var(--fill-color);\n",
              "    height: 32px;\n",
              "    padding: 0;\n",
              "    width: 32px;\n",
              "  }\n",
              "\n",
              "  .colab-df-quickchart:hover {\n",
              "    background-color: var(--hover-bg-color);\n",
              "    box-shadow: 0 1px 2px rgba(60, 64, 67, 0.3), 0 1px 3px 1px rgba(60, 64, 67, 0.15);\n",
              "    fill: var(--button-hover-fill-color);\n",
              "  }\n",
              "\n",
              "  .colab-df-quickchart-complete:disabled,\n",
              "  .colab-df-quickchart-complete:disabled:hover {\n",
              "    background-color: var(--disabled-bg-color);\n",
              "    fill: var(--disabled-fill-color);\n",
              "    box-shadow: none;\n",
              "  }\n",
              "\n",
              "  .colab-df-spinner {\n",
              "    border: 2px solid var(--fill-color);\n",
              "    border-color: transparent;\n",
              "    border-bottom-color: var(--fill-color);\n",
              "    animation:\n",
              "      spin 1s steps(1) infinite;\n",
              "  }\n",
              "\n",
              "  @keyframes spin {\n",
              "    0% {\n",
              "      border-color: transparent;\n",
              "      border-bottom-color: var(--fill-color);\n",
              "      border-left-color: var(--fill-color);\n",
              "    }\n",
              "    20% {\n",
              "      border-color: transparent;\n",
              "      border-left-color: var(--fill-color);\n",
              "      border-top-color: var(--fill-color);\n",
              "    }\n",
              "    30% {\n",
              "      border-color: transparent;\n",
              "      border-left-color: var(--fill-color);\n",
              "      border-top-color: var(--fill-color);\n",
              "      border-right-color: var(--fill-color);\n",
              "    }\n",
              "    40% {\n",
              "      border-color: transparent;\n",
              "      border-right-color: var(--fill-color);\n",
              "      border-top-color: var(--fill-color);\n",
              "    }\n",
              "    60% {\n",
              "      border-color: transparent;\n",
              "      border-right-color: var(--fill-color);\n",
              "    }\n",
              "    80% {\n",
              "      border-color: transparent;\n",
              "      border-right-color: var(--fill-color);\n",
              "      border-bottom-color: var(--fill-color);\n",
              "    }\n",
              "    90% {\n",
              "      border-color: transparent;\n",
              "      border-bottom-color: var(--fill-color);\n",
              "    }\n",
              "  }\n",
              "</style>\n",
              "\n",
              "  <script>\n",
              "    async function quickchart(key) {\n",
              "      const quickchartButtonEl =\n",
              "        document.querySelector('#' + key + ' button');\n",
              "      quickchartButtonEl.disabled = true;  // To prevent multiple clicks.\n",
              "      quickchartButtonEl.classList.add('colab-df-spinner');\n",
              "      try {\n",
              "        const charts = await google.colab.kernel.invokeFunction(\n",
              "            'suggestCharts', [key], {});\n",
              "      } catch (error) {\n",
              "        console.error('Error during call to suggestCharts:', error);\n",
              "      }\n",
              "      quickchartButtonEl.classList.remove('colab-df-spinner');\n",
              "      quickchartButtonEl.classList.add('colab-df-quickchart-complete');\n",
              "    }\n",
              "    (() => {\n",
              "      let quickchartButtonEl =\n",
              "        document.querySelector('#df-abcdf5c4-7347-455a-a6b0-fb346bbe11db button');\n",
              "      quickchartButtonEl.style.display =\n",
              "        google.colab.kernel.accessAllowed ? 'block' : 'none';\n",
              "    })();\n",
              "  </script>\n",
              "</div>\n",
              "    </div>\n",
              "  </div>\n"
            ]
          },
          "metadata": {},
          "execution_count": 66
        }
      ]
    },
    {
      "cell_type": "code",
      "source": [
        "crime_df.shape"
      ],
      "metadata": {
        "colab": {
          "base_uri": "https://localhost:8080/"
        },
        "id": "vPp30dLxs20F",
        "outputId": "41d4a9ad-326f-49e9-c7f3-743f305e1372"
      },
      "execution_count": 67,
      "outputs": [
        {
          "output_type": "execute_result",
          "data": {
            "text/plain": [
              "(50, 5)"
            ]
          },
          "metadata": {},
          "execution_count": 67
        }
      ]
    },
    {
      "cell_type": "markdown",
      "source": [
        "### **Scaling**\n",
        "Feature scaling is the process of normalizing the range of features in a dataset."
      ],
      "metadata": {
        "id": "7IltlefMuUTw"
      }
    },
    {
      "cell_type": "code",
      "source": [
        "scaler=MinMaxScaler()\n",
        "scaled_features=scaler.fit_transform(features)"
      ],
      "metadata": {
        "id": "BswzYkCpuNJ9"
      },
      "execution_count": 68,
      "outputs": []
    },
    {
      "cell_type": "code",
      "source": [
        "scaled_features"
      ],
      "metadata": {
        "colab": {
          "base_uri": "https://localhost:8080/"
        },
        "id": "AD6oPcHcvKQc",
        "outputId": "36d48e2b-50fa-46e6-e7b5-4490265c8c76"
      },
      "execution_count": 69,
      "outputs": [
        {
          "output_type": "execute_result",
          "data": {
            "text/plain": [
              "array([[0.74698795, 0.65410959, 0.44067797, 0.35917313],\n",
              "       [0.55421687, 0.74657534, 0.27118644, 0.96124031],\n",
              "       [0.43975904, 0.85273973, 0.81355932, 0.6124031 ],\n",
              "       [0.48192771, 0.49657534, 0.30508475, 0.31524548],\n",
              "       [0.4939759 , 0.79109589, 1.        , 0.86046512],\n",
              "       [0.42771084, 0.54452055, 0.77966102, 0.81136951],\n",
              "       [0.15060241, 0.22260274, 0.76271186, 0.09819121],\n",
              "       [0.30722892, 0.6609589 , 0.6779661 , 0.21963824],\n",
              "       [0.87951807, 0.99315068, 0.81355932, 0.63565891],\n",
              "       [1.        , 0.56849315, 0.47457627, 0.47803618],\n",
              "       [0.27108434, 0.00342466, 0.86440678, 0.33333333],\n",
              "       [0.10843373, 0.25684932, 0.37288136, 0.17829457],\n",
              "       [0.57831325, 0.69863014, 0.86440678, 0.43152455],\n",
              "       [0.38554217, 0.23287671, 0.55932203, 0.35400517],\n",
              "       [0.08433735, 0.03767123, 0.42372881, 0.10335917],\n",
              "       [0.31325301, 0.23972603, 0.57627119, 0.27648579],\n",
              "       [0.53614458, 0.21917808, 0.33898305, 0.23255814],\n",
              "       [0.87951807, 0.69863014, 0.57627119, 0.38501292],\n",
              "       [0.07831325, 0.13013699, 0.3220339 , 0.0129199 ],\n",
              "       [0.63253012, 0.87328767, 0.59322034, 0.52971576],\n",
              "       [0.21686747, 0.35616438, 0.89830508, 0.23255814],\n",
              "       [0.68072289, 0.71917808, 0.71186441, 0.71834625],\n",
              "       [0.11445783, 0.09246575, 0.57627119, 0.19638243],\n",
              "       [0.92168675, 0.73287671, 0.20338983, 0.25322997],\n",
              "       [0.4939759 , 0.45547945, 0.6440678 , 0.54005168],\n",
              "       [0.31325301, 0.21917808, 0.3559322 , 0.23514212],\n",
              "       [0.21084337, 0.19520548, 0.50847458, 0.2377261 ],\n",
              "       [0.68674699, 0.70890411, 0.83050847, 1.        ],\n",
              "       [0.07831325, 0.04109589, 0.40677966, 0.05684755],\n",
              "       [0.39759036, 0.39041096, 0.96610169, 0.29715762],\n",
              "       [0.63855422, 0.82191781, 0.6440678 , 0.64082687],\n",
              "       [0.62048193, 0.71575342, 0.91525424, 0.48578811],\n",
              "       [0.73493976, 1.        , 0.22033898, 0.22739018],\n",
              "       [0.        , 0.        , 0.20338983, 0.        ],\n",
              "       [0.39156627, 0.25684932, 0.72881356, 0.36434109],\n",
              "       [0.34939759, 0.3630137 , 0.61016949, 0.32816537],\n",
              "       [0.24698795, 0.39041096, 0.59322034, 0.56847545],\n",
              "       [0.3313253 , 0.20890411, 0.6779661 , 0.19638243],\n",
              "       [0.15662651, 0.44178082, 0.93220339, 0.02583979],\n",
              "       [0.81927711, 0.80136986, 0.27118644, 0.39276486],\n",
              "       [0.18072289, 0.14041096, 0.22033898, 0.14211886],\n",
              "       [0.74698795, 0.48972603, 0.45762712, 0.50645995],\n",
              "       [0.71686747, 0.53424658, 0.81355932, 0.47028424],\n",
              "       [0.14457831, 0.25684932, 0.81355932, 0.40310078],\n",
              "       [0.08433735, 0.01027397, 0.        , 0.10077519],\n",
              "       [0.46385542, 0.38013699, 0.52542373, 0.34625323],\n",
              "       [0.19277108, 0.34246575, 0.69491525, 0.48837209],\n",
              "       [0.29518072, 0.12328767, 0.11864407, 0.05167959],\n",
              "       [0.10843373, 0.02739726, 0.57627119, 0.09043928],\n",
              "       [0.36144578, 0.39726027, 0.47457627, 0.21447028]])"
            ]
          },
          "metadata": {},
          "execution_count": 69
        }
      ]
    },
    {
      "cell_type": "code",
      "source": [
        "scaled_features.shape"
      ],
      "metadata": {
        "colab": {
          "base_uri": "https://localhost:8080/"
        },
        "id": "AItGb_8YvaO7",
        "outputId": "e1d0f71e-30ba-4e23-ae3e-c03f6a328ba6"
      },
      "execution_count": 70,
      "outputs": [
        {
          "output_type": "execute_result",
          "data": {
            "text/plain": [
              "(50, 4)"
            ]
          },
          "metadata": {},
          "execution_count": 70
        }
      ]
    },
    {
      "cell_type": "markdown",
      "source": [
        "## Clustering Techniques"
      ],
      "metadata": {
        "id": "TiulDzWqvrCn"
      }
    },
    {
      "cell_type": "markdown",
      "source": [
        "### **1: Hierarchical clustering**"
      ],
      "metadata": {
        "id": "22YHX6wtvs80"
      }
    },
    {
      "cell_type": "code",
      "source": [
        "model_h=AgglomerativeClustering(n_clusters=3,affinity='l2',linkage='complete')\n",
        "model_h.fit_predict(scaled_features)"
      ],
      "metadata": {
        "id": "P9ffHpLBvlHt",
        "colab": {
          "base_uri": "https://localhost:8080/"
        },
        "outputId": "a4c7b241-36f8-47d1-c953-7f5328ffe99a"
      },
      "execution_count": 71,
      "outputs": [
        {
          "output_type": "execute_result",
          "data": {
            "text/plain": [
              "array([0, 0, 0, 1, 0, 0, 1, 1, 0, 0, 1, 2, 0, 1, 2, 1, 1, 0, 2, 0, 1, 0,\n",
              "       1, 0, 0, 2, 2, 0, 2, 1, 0, 0, 0, 2, 1, 1, 1, 1, 1, 0, 2, 0, 0, 1,\n",
              "       2, 1, 1, 2, 1, 1])"
            ]
          },
          "metadata": {},
          "execution_count": 71
        }
      ]
    },
    {
      "cell_type": "code",
      "source": [
        "from scipy.cluster.hierarchy import dendrogram,linkage\n",
        "from scipy.spatial.distance import pdist\n",
        "import matplotlib.pyplot as plt\n",
        "from sklearn.cluster import AgglomerativeClustering\n",
        "\n",
        "xdist=pdist(scaled_features,metric='euclidean')\n",
        "linked=linkage(xdist,'ward')\n",
        "\n",
        "plt.figure(figsize=(8,4))\n",
        "dendrogram(linked,\n",
        "           orientation='top',\n",
        "           distance_sort='descending',\n",
        "           show_leaf_counts=True)\n",
        "\n",
        "plt.show();"
      ],
      "metadata": {
        "colab": {
          "base_uri": "https://localhost:8080/",
          "height": 362
        },
        "id": "7-EVP44_npjI",
        "outputId": "a7bb82e1-77b6-4cf2-aee4-cc7c7fdb8ca4"
      },
      "execution_count": 72,
      "outputs": [
        {
          "output_type": "display_data",
          "data": {
            "text/plain": [
              "<Figure size 800x400 with 1 Axes>"
            ],
            "image/png": "[encoded data removed]"
          },
          "metadata": {}
        }
      ]
    },
    {
      "cell_type": "code",
      "source": [
        "model2_h=AgglomerativeClustering(n_clusters=3,affinity='l2',linkage='complete')\n",
        "model2_h.fit_predict(scaled_features)"
      ],
      "metadata": {
        "id": "2G5_3xZ0vjBw",
        "colab": {
          "base_uri": "https://localhost:8080/"
        },
        "outputId": "1e54e025-cc05-4d42-d895-c9c9db863ddd"
      },
      "execution_count": 73,
      "outputs": [
        {
          "output_type": "execute_result",
          "data": {
            "text/plain": [
              "array([0, 0, 0, 1, 0, 0, 1, 1, 0, 0, 1, 2, 0, 1, 2, 1, 1, 0, 2, 0, 1, 0,\n",
              "       1, 0, 0, 2, 2, 0, 2, 1, 0, 0, 0, 2, 1, 1, 1, 1, 1, 0, 2, 0, 0, 1,\n",
              "       2, 1, 1, 2, 1, 1])"
            ]
          },
          "metadata": {},
          "execution_count": 73
        }
      ]
    },
    {
      "cell_type": "markdown",
      "source": [
        "### **2: K-Means Clustering**"
      ],
      "metadata": {
        "id": "bxESg50GI1ow"
      }
    },
    {
      "cell_type": "code",
      "source": [
        "model_k=KMeans(n_clusters=3)\n",
        "model_k.fit_predict(scaled_features)"
      ],
      "metadata": {
        "colab": {
          "base_uri": "https://localhost:8080/"
        },
        "id": "9IyCF_E3DK-x",
        "outputId": "11f80d70-9fb3-4820-b5bd-7450db965e91"
      },
      "execution_count": 74,
      "outputs": [
        {
          "output_type": "execute_result",
          "data": {
            "text/plain": [
              "array([2, 2, 2, 1, 2, 2, 1, 1, 2, 2, 1, 0, 2, 1, 0, 1, 0, 2, 0, 2, 1, 2,\n",
              "       0, 2, 1, 0, 0, 2, 0, 1, 2, 2, 2, 0, 1, 1, 1, 1, 1, 2, 0, 2, 2, 1,\n",
              "       0, 1, 1, 0, 0, 1], dtype=int32)"
            ]
          },
          "metadata": {},
          "execution_count": 74
        }
      ]
    },
    {
      "cell_type": "code",
      "source": [
        "model_k.cluster_centers_"
      ],
      "metadata": {
        "colab": {
          "base_uri": "https://localhost:8080/"
        },
        "id": "r5HrvCl6nTJ6",
        "outputId": "a6bb607f-baf1-4ac1-9ca0-f7ff3176d68e"
      },
      "execution_count": 75,
      "outputs": [
        {
          "output_type": "execute_result",
          "data": {
            "text/plain": [
              "array([[0.1686747 , 0.11485774, 0.34028683, 0.12601868],\n",
              "       [0.31425703, 0.33866058, 0.68361582, 0.31122595],\n",
              "       [0.69467343, 0.73395818, 0.61552186, 0.56629947]])"
            ]
          },
          "metadata": {},
          "execution_count": 75
        }
      ]
    },
    {
      "cell_type": "markdown",
      "source": [
        "\n",
        "\n",
        "```\n",
        "# This is formatted as code\n",
        "```\n",
        "\n",
        "### **3:Example for  DBSCAN Clustering**"
      ],
      "metadata": {
        "id": "3TkdnOxxJig2"
      }
    },
    {
      "cell_type": "code",
      "source": [
        "from sklearn.datasets import make_moons\n",
        "import matplotlib.pyplot as plt"
      ],
      "metadata": {
        "id": "KWmJOPtaDLD2"
      },
      "execution_count": 76,
      "outputs": []
    },
    {
      "cell_type": "code",
      "source": [
        "x,y=make_moons(100)\n"
      ],
      "metadata": {
        "id": "w8HA2gFzDLIs"
      },
      "execution_count": 77,
      "outputs": []
    },
    {
      "cell_type": "code",
      "source": [
        "x"
      ],
      "metadata": {
        "id": "yclxlk0ODLMH",
        "colab": {
          "base_uri": "https://localhost:8080/"
        },
        "outputId": "2643cc8c-3267-497f-c6e8-8703d771f657"
      },
      "execution_count": 78,
      "outputs": [
        {
          "output_type": "execute_result",
          "data": {
            "text/plain": [
              "array([[ 8.01413622e-01,  5.98110530e-01],\n",
              "       [ 1.22252093e+00, -4.74927912e-01],\n",
              "       [ 2.38554042e-01, -1.48228395e-01],\n",
              "       [-8.71318704e-01,  4.90717552e-01],\n",
              "       [ 1.28452759e+00, -4.58667853e-01],\n",
              "       [-2.84527587e-01,  9.58667853e-01],\n",
              "       [-7.61445958e-01,  6.48228395e-01],\n",
              "       [ 1.15959990e+00, -4.87181783e-01],\n",
              "       [-7.18349350e-01,  6.95682551e-01],\n",
              "       [ 1.34536505e+00, -4.38468422e-01],\n",
              "       [ 9.49055747e-01,  3.15108218e-01],\n",
              "       [ 1.99179001e+00,  3.72122838e-01],\n",
              "       [-3.20515776e-02,  9.99486216e-01],\n",
              "       [-4.04783343e-01,  9.14412623e-01],\n",
              "       [-1.00000000e+00,  1.22464680e-16],\n",
              "       [ 2.05460725e-03,  4.35929780e-01],\n",
              "       [ 2.00000000e+00,  5.00000000e-01],\n",
              "       [ 1.46253829e+00, -3.86599306e-01],\n",
              "       [ 9.67294863e-01,  2.53654584e-01],\n",
              "       [ 7.15472413e-01, -4.58667853e-01],\n",
              "       [ 3.27699110e-01, -2.40277997e-01],\n",
              "       [ 5.95216657e-01, -4.14412623e-01],\n",
              "       [ 1.40478334e+00, -4.14412623e-01],\n",
              "       [ 1.83808810e+00, -4.55349012e-02],\n",
              "       [ 1.67230089e+00, -2.40277997e-01],\n",
              "       [ 7.77479066e-01, -4.74927912e-01],\n",
              "       [ 8.40400105e-01, -4.87181783e-01],\n",
              "       [ 3.20515776e-02,  9.99486216e-01],\n",
              "       [ 5.37461710e-01, -3.86599306e-01],\n",
              "       [ 9.97945393e-01,  6.40702200e-02],\n",
              "       [ 9.60230259e-02,  9.95379113e-01],\n",
              "       [ 1.62348980e+00, -2.81831482e-01],\n",
              "       [ 1.92691676e+00,  1.24732995e-01],\n",
              "       [ 1.87131870e+00,  9.28244800e-03],\n",
              "       [ 7.30832427e-02,  1.24732995e-01],\n",
              "       [ 1.28681296e-01,  9.28244800e-03],\n",
              "       [ 1.96729486e+00,  2.46345416e-01],\n",
              "       [ 7.61445958e-01,  6.48228395e-01],\n",
              "       [-1.59599895e-01,  9.87181783e-01],\n",
              "       [-4.62538290e-01,  8.86599306e-01],\n",
              "       [ 1.76144596e+00, -1.48228395e-01],\n",
              "       [ 9.03976974e-01, -4.95379113e-01],\n",
              "       [-8.01413622e-01,  5.98110530e-01],\n",
              "       [ 5.09442530e-02,  1.84891782e-01],\n",
              "       [ 1.03205158e+00, -4.99486216e-01],\n",
              "       [ 8.20998618e-03,  3.72122838e-01],\n",
              "       [-6.23489802e-01,  7.81831482e-01],\n",
              "       [ 1.90096887e+00,  6.61162609e-02],\n",
              "       [ 1.57211666e+00, -3.20172255e-01],\n",
              "       [ 9.26916757e-01,  3.75267005e-01],\n",
              "       [-8.38088105e-01,  5.45534901e-01],\n",
              "       [ 1.80141362e+00, -9.81105305e-02],\n",
              "       [ 7.18349350e-01,  6.95682551e-01],\n",
              "       [ 6.72300890e-01,  7.40277997e-01],\n",
              "       [-2.22520934e-01,  9.74927912e-01],\n",
              "       [ 1.00000000e+00,  0.00000000e+00],\n",
              "       [-5.18392568e-01,  8.55142763e-01],\n",
              "       [-9.97945393e-01,  6.40702200e-02],\n",
              "       [ 6.23489802e-01,  7.81831482e-01],\n",
              "       [ 1.51839257e+00, -3.55142763e-01],\n",
              "       [ 2.84527587e-01,  9.58667853e-01],\n",
              "       [ 1.61911895e-01, -4.55349012e-02],\n",
              "       [-5.72116660e-01,  8.20172255e-01],\n",
              "       [ 9.00968868e-01,  4.33883739e-01],\n",
              "       [ 5.72116660e-01,  8.20172255e-01],\n",
              "       [ 9.90311321e-02,  6.61162609e-02],\n",
              "       [ 4.27883340e-01, -3.20172255e-01],\n",
              "       [ 1.59599895e-01,  9.87181783e-01],\n",
              "       [ 1.09602303e+00, -4.95379113e-01],\n",
              "       [ 9.67948422e-01, -4.99486216e-01],\n",
              "       [ 1.71834935e+00, -1.95682551e-01],\n",
              "       [-3.45365054e-01,  9.38468422e-01],\n",
              "       [ 5.18392568e-01,  8.55142763e-01],\n",
              "       [ 8.38088105e-01,  5.45534901e-01],\n",
              "       [-9.67294863e-01,  2.53654584e-01],\n",
              "       [-9.81559157e-01,  1.91158629e-01],\n",
              "       [-9.26916757e-01,  3.75267005e-01],\n",
              "       [ 6.54634946e-01, -4.38468422e-01],\n",
              "       [-9.00968868e-01,  4.33883739e-01],\n",
              "       [ 1.98586378e-01, -9.81105305e-02],\n",
              "       [ 2.81650650e-01, -1.95682551e-01],\n",
              "       [-9.91790014e-01,  1.27877162e-01],\n",
              "       [-6.72300890e-01,  7.40277997e-01],\n",
              "       [ 3.76510198e-01, -2.81831482e-01],\n",
              "       [ 3.45365054e-01,  9.38468422e-01],\n",
              "       [ 8.71318704e-01,  4.90717552e-01],\n",
              "       [ 4.62538290e-01,  8.86599306e-01],\n",
              "       [-9.60230259e-02,  9.95379113e-01],\n",
              "       [ 9.81559157e-01,  1.91158629e-01],\n",
              "       [ 1.99794539e+00,  4.35929780e-01],\n",
              "       [ 4.04783343e-01,  9.14412623e-01],\n",
              "       [ 3.27051370e-02,  2.46345416e-01],\n",
              "       [ 1.84408430e-02,  3.08841371e-01],\n",
              "       [ 4.81607432e-01, -3.55142763e-01],\n",
              "       [-9.49055747e-01,  3.15108218e-01],\n",
              "       [ 9.91790014e-01,  1.27877162e-01],\n",
              "       [ 0.00000000e+00,  5.00000000e-01],\n",
              "       [ 2.22520934e-01,  9.74927912e-01],\n",
              "       [ 1.94905575e+00,  1.84891782e-01],\n",
              "       [ 1.98155916e+00,  3.08841371e-01]])"
            ]
          },
          "metadata": {},
          "execution_count": 78
        }
      ]
    },
    {
      "cell_type": "code",
      "source": [
        "x.shape"
      ],
      "metadata": {
        "colab": {
          "base_uri": "https://localhost:8080/"
        },
        "id": "D80r9OFOiKeP",
        "outputId": "c5d7502e-45f7-4165-9160-a728655853d5"
      },
      "execution_count": 79,
      "outputs": [
        {
          "output_type": "execute_result",
          "data": {
            "text/plain": [
              "(100, 2)"
            ]
          },
          "metadata": {},
          "execution_count": 79
        }
      ]
    },
    {
      "cell_type": "code",
      "source": [
        "y"
      ],
      "metadata": {
        "id": "XihZ-Y4LDLPg",
        "colab": {
          "base_uri": "https://localhost:8080/"
        },
        "outputId": "3da10d47-8442-4cd0-eac7-a7c10fbf7fc2"
      },
      "execution_count": 80,
      "outputs": [
        {
          "output_type": "execute_result",
          "data": {
            "text/plain": [
              "array([0, 1, 1, 0, 1, 0, 0, 1, 0, 1, 0, 1, 0, 0, 0, 1, 1, 1, 0, 1, 1, 1,\n",
              "       1, 1, 1, 1, 1, 0, 1, 0, 0, 1, 1, 1, 1, 1, 1, 0, 0, 0, 1, 1, 0, 1,\n",
              "       1, 1, 0, 1, 1, 0, 0, 1, 0, 0, 0, 0, 0, 0, 0, 1, 0, 1, 0, 0, 0, 1,\n",
              "       1, 0, 1, 1, 1, 0, 0, 0, 0, 0, 0, 1, 0, 1, 1, 0, 0, 1, 0, 0, 0, 0,\n",
              "       0, 1, 0, 1, 1, 1, 0, 0, 1, 0, 1, 1])"
            ]
          },
          "metadata": {},
          "execution_count": 80
        }
      ]
    },
    {
      "cell_type": "code",
      "source": [
        "y.shape"
      ],
      "metadata": {
        "id": "p84Mua_DDMSz",
        "colab": {
          "base_uri": "https://localhost:8080/"
        },
        "outputId": "18cf3bea-d2b4-4a31-ae05-227494b7f785"
      },
      "execution_count": 81,
      "outputs": [
        {
          "output_type": "execute_result",
          "data": {
            "text/plain": [
              "(100,)"
            ]
          },
          "metadata": {},
          "execution_count": 81
        }
      ]
    },
    {
      "cell_type": "code",
      "source": [
        "plt.figure(figsize=(8,4))\n",
        "plt.style.use('seaborn-darkgrid')\n",
        "plt.scatter(x[:,0],x[:,1]);"
      ],
      "metadata": {
        "id": "6XXwM1wZDMWU",
        "colab": {
          "base_uri": "https://localhost:8080/",
          "height": 363
        },
        "outputId": "80089901-03d3-4954-9d8e-bae50a8d1899"
      },
      "execution_count": 82,
      "outputs": [
        {
          "output_type": "display_data",
          "data": {
            "text/plain": [
              "<Figure size 800x400 with 1 Axes>"
            ],
            "image/png": "[encoded data removed]"
          },
          "metadata": {}
        }
      ]
    },
    {
      "cell_type": "code",
      "source": [
        "model_d1=DBSCAN(min_samples=2,eps=0.1)\n",
        "model_d1.fit_predict(x)"
      ],
      "metadata": {
        "id": "tLNJLAC7DMZy",
        "colab": {
          "base_uri": "https://localhost:8080/"
        },
        "outputId": "7fb41f78-2a49-4b61-d00f-5685ad18f0f6"
      },
      "execution_count": 83,
      "outputs": [
        {
          "output_type": "execute_result",
          "data": {
            "text/plain": [
              "array([0, 1, 1, 0, 1, 0, 0, 1, 0, 1, 0, 1, 0, 0, 0, 1, 1, 1, 0, 1, 1, 1,\n",
              "       1, 1, 1, 1, 1, 0, 1, 0, 0, 1, 1, 1, 1, 1, 1, 0, 0, 0, 1, 1, 0, 1,\n",
              "       1, 1, 0, 1, 1, 0, 0, 1, 0, 0, 0, 0, 0, 0, 0, 1, 0, 1, 0, 0, 0, 1,\n",
              "       1, 0, 1, 1, 1, 0, 0, 0, 0, 0, 0, 1, 0, 1, 1, 0, 0, 1, 0, 0, 0, 0,\n",
              "       0, 1, 0, 1, 1, 1, 0, 0, 1, 0, 1, 1])"
            ]
          },
          "metadata": {},
          "execution_count": 83
        }
      ]
    },
    {
      "cell_type": "code",
      "source": [
        "plt.figure(figsize=(8,4))\n",
        "plt.style.use('seaborn-darkgrid')\n",
        "plt.scatter(x[:,0],x[:,1],c=model_d1.fit_predict(x),cmap=plt.cm.rainbow_r);"
      ],
      "metadata": {
        "colab": {
          "base_uri": "https://localhost:8080/",
          "height": 363
        },
        "id": "tNBGkq27jeVT",
        "outputId": "22ad9373-e538-4024-807e-781b29684348"
      },
      "execution_count": 84,
      "outputs": [
        {
          "output_type": "display_data",
          "data": {
            "text/plain": [
              "<Figure size 800x400 with 1 Axes>"
            ],
            "image/png": "[encoded data removed]"
          },
          "metadata": {}
        }
      ]
    },
    {
      "cell_type": "code",
      "source": [
        "model_k1=KMeans(n_clusters=2)\n",
        "model_k1.fit_predict(x)\n",
        "\n",
        "plt.figure(figsize=(8,4))\n",
        "plt.style.use('seaborn-darkgrid')\n",
        "plt.scatter(model_k1.cluster_centers_[:,0],model_k1.cluster_centers_[:,1])\n",
        "plt.scatter(x[:,0],x[:,1],c=model_k1.fit_predict(x),cmap=plt.cm.rainbow_r)\n",
        "plt.show();"
      ],
      "metadata": {
        "colab": {
          "base_uri": "https://localhost:8080/",
          "height": 363
        },
        "id": "SQcR9wTPjebP",
        "outputId": "7064067f-6aad-4fa4-c45b-388e1259ddd2"
      },
      "execution_count": 85,
      "outputs": [
        {
          "output_type": "display_data",
          "data": {
            "text/plain": [
              "<Figure size 800x400 with 1 Axes>"
            ],
            "image/png": "[encoded data removed]"
          },
          "metadata": {}
        }
      ]
    },
    {
      "cell_type": "code",
      "source": [
        "model_k1.cluster_centers_"
      ],
      "metadata": {
        "colab": {
          "base_uri": "https://localhost:8080/"
        },
        "id": "f2Kw5CVtjefe",
        "outputId": "42141175-fe5e-4d43-d759-f8961b745a72"
      },
      "execution_count": 86,
      "outputs": [
        {
          "output_type": "execute_result",
          "data": {
            "text/plain": [
              "array([[-0.21824375,  0.57960771],\n",
              "       [ 1.19007733, -0.06668192]])"
            ]
          },
          "metadata": {},
          "execution_count": 86
        }
      ]
    },
    {
      "cell_type": "code",
      "source": [
        "model_h1=AgglomerativeClustering(n_clusters=2,affinity=\"l2\",linkage=\"single\")\n",
        "\n",
        "model_h1.fit_predict(x)\n",
        "plt.figure(figsize=(8,4))\n",
        "plt.style.use(\"seaborn-darkgrid\")\n",
        "plt.scatter(x[:,0],x[:,1],c=model_h1.fit_predict(x),cmap=plt.cm.rainbow_r)"
      ],
      "metadata": {
        "colab": {
          "base_uri": "https://localhost:8080/",
          "height": 380
        },
        "id": "G35oo83rjejH",
        "outputId": "f4fa901d-8275-4fb7-9051-751aa6ef05fc"
      },
      "execution_count": 87,
      "outputs": [
        {
          "output_type": "execute_result",
          "data": {
            "text/plain": [
              "<matplotlib.collections.PathCollection at 0x7ddef8e741f0>"
            ]
          },
          "metadata": {},
          "execution_count": 87
        },
        {
          "output_type": "display_data",
          "data": {
            "text/plain": [
              "<Figure size 800x400 with 1 Axes>"
            ],
            "image/png": "[encoded data removed]"
          },
          "metadata": {}
        }
      ]
    },
    {
      "cell_type": "code",
      "source": [],
      "metadata": {
        "id": "LBZarZRCjeni"
      },
      "execution_count": 87,
      "outputs": []
    },
    {
      "cell_type": "markdown",
      "source": [
        "**bold text**## Evaluation"
      ],
      "metadata": {
        "id": "Tw4ane4FrZq5"
      }
    },
    {
      "cell_type": "markdown",
      "source": [
        "### **1: Elbow Method for KMeans Clustering**"
      ],
      "metadata": {
        "id": "rYI0wxBerkz1"
      }
    },
    {
      "cell_type": "code",
      "source": [
        "k=[]\n",
        "\n",
        "for i in range(1,11):\n",
        "  model=KMeans(n_clusters=i)\n",
        "  model.fit(scaled_features)\n",
        "  k.append(model.inertia_)\n",
        "\n",
        "k"
      ],
      "metadata": {
        "colab": {
          "base_uri": "https://localhost:8080/"
        },
        "id": "EAxn2a8Pjeqz",
        "outputId": "ef8667e1-e536-46fc-9704-63fec93ae5c2"
      },
      "execution_count": 88,
      "outputs": [
        {
          "output_type": "execute_result",
          "data": {
            "text/plain": [
              "[13.184122550256447,\n",
              " 6.596893867946196,\n",
              " 5.010878493006417,\n",
              " 3.6834561535859134,\n",
              " 3.1842618139677223,\n",
              " 2.839590717196442,\n",
              " 2.553551365789129,\n",
              " 2.362488050322132,\n",
              " 2.185590000994186,\n",
              " 1.924849383777544]"
            ]
          },
          "metadata": {},
          "execution_count": 88
        }
      ]
    },
    {
      "cell_type": "code",
      "source": [
        "plt.figure(figsize=(8,4))\n",
        "plt.style.use('seaborn-darkgrid')\n",
        "plt.scatter(range(1,11),k,s=100,color='black')\n",
        "plt.plot(range(1,11),k,linestyle='-.')\n",
        "plt.xticks(range(1,11))\n",
        "plt.show();"
      ],
      "metadata": {
        "colab": {
          "base_uri": "https://localhost:8080/",
          "height": 363
        },
        "id": "JLoQHdkor7jL",
        "outputId": "ef9b514b-1544-4ef6-a7b1-bf4f92744047"
      },
      "execution_count": 89,
      "outputs": [
        {
          "output_type": "display_data",
          "data": {
            "text/plain": [
              "<Figure size 800x400 with 1 Axes>"
            ],
            "image/png": "[encoded data removed]"
          },
          "metadata": {}
        }
      ]
    },
    {
      "cell_type": "markdown",
      "source": [
        "**Elbow Method** : In cluster analysis, the elbow method is a heuristic used in determining the number of clusters in a data set. The method consists of plotting the explained variation as a function of the number of clusters and picking the elbow of the curve as the number of clusters to use.\n",
        "\n",
        "---\n",
        "\n",
        "\n",
        "> By Elbow Method for Kmeans clustering we got that there shold be 2 clusters."
      ],
      "metadata": {
        "id": "DUbrRL_ZVkYI"
      }
    },
    {
      "cell_type": "markdown",
      "source": [
        "\n",
        "\n",
        "```\n",
        "# This is formatted as code\n",
        "```\n",
        "\n",
        "### **2: Silhouette Method for all Clustering techniques**"
      ],
      "metadata": {
        "id": "_i4oGkyht5It"
      }
    },
    {
      "cell_type": "code",
      "source": [
        "from sklearn.metrics import silhouette_score"
      ],
      "metadata": {
        "id": "nLWnM-nUr7uv"
      },
      "execution_count": 90,
      "outputs": []
    },
    {
      "cell_type": "code",
      "source": [
        "#for KMean clustering technique\n",
        "\n",
        "nc=range(2,11)\n",
        "l=[]\n",
        "for i in nc:\n",
        "  model=KMeans(n_clusters=i)\n",
        "  #model.fit_predict(scaled_fearures)\n",
        "  l.append(silhouette_score(scaled_features,model.fit_predict(scaled_features)))\n",
        "\n",
        "\n",
        "\n",
        "#plotting\n",
        "plt.figure(figsize=(8,4))\n",
        "plt.style.use('seaborn-darkgrid')\n",
        "plt.scatter(nc,l,s=50,color='black')\n",
        "plt.plot(nc,l,color='red',linestyle='-.')\n",
        "plt.xticks(range(1,11))\n",
        "plt.show();\n",
        "\n",
        "# printing highest Silhouette score for the respective technique\n",
        "print(max(l),'for',nc[l.index(max(l))],\"clusters\")\n",
        "\n",
        "l"
      ],
      "metadata": {
        "colab": {
          "base_uri": "https://localhost:8080/",
          "height": 537
        },
        "id": "JhLx8qr-r7-f",
        "outputId": "90875000-39cd-4eb7-dc74-e51452af682b"
      },
      "execution_count": 91,
      "outputs": [
        {
          "output_type": "display_data",
          "data": {
            "text/plain": [
              "<Figure size 800x400 with 1 Axes>"
            ],
            "image/png": "[encoded data removed]"
          },
          "metadata": {}
        },
        {
          "output_type": "stream",
          "name": "stdout",
          "text": [
            "0.42364457559625074 for 2 clusters\n"
          ]
        },
        {
          "output_type": "execute_result",
          "data": {
            "text/plain": [
              "[0.42364457559625074,\n",
              " 0.3187755079997931,\n",
              " 0.34089035600743633,\n",
              " 0.3093269262044076,\n",
              " 0.26986811665722166,\n",
              " 0.2745149549962372,\n",
              " 0.23295778456192193,\n",
              " 0.21997021810721176,\n",
              " 0.22581581790014466]"
            ]
          },
          "metadata": {},
          "execution_count": 91
        }
      ]
    },
    {
      "cell_type": "code",
      "source": [
        "#for hierarchical clustering technique with affinity='l1'and linkage='average'\n",
        "\n",
        "nc=range(2,11)\n",
        "l=[]\n",
        "for i in nc:\n",
        "  model=AgglomerativeClustering(n_clusters=i,affinity='l1',linkage='average')\n",
        "  l.append(silhouette_score(scaled_features,model.fit_predict(scaled_features)))\n",
        "\n",
        "\n",
        "#plotting\n",
        "plt.figure(figsize=(8,4))\n",
        "plt.style.use('seaborn-darkgrid')\n",
        "plt.scatter(nc,l,s=50,color='black')\n",
        "plt.plot(nc,l,color='red',linestyle='-.')\n",
        "plt.xticks(range(1,11))\n",
        "plt.show();\n",
        "\n",
        "\n",
        "\n",
        "\n",
        "# printing highest Silhouette score for the respective technique\n",
        "print(max(l),'for',nc[l.index(max(l))],\"clusters\")\n",
        "\n",
        "l"
      ],
      "metadata": {
        "id": "9doBKecPr8GY",
        "colab": {
          "base_uri": "https://localhost:8080/",
          "height": 537
        },
        "outputId": "032546f1-03d8-4e17-d87f-c111f3acc6f0"
      },
      "execution_count": 92,
      "outputs": [
        {
          "output_type": "display_data",
          "data": {
            "text/plain": [
              "<Figure size 800x400 with 1 Axes>"
            ],
            "image/png": "[encoded data removed]"
          },
          "metadata": {}
        },
        {
          "output_type": "stream",
          "name": "stdout",
          "text": [
            "0.42150616000142505 for 2 clusters\n"
          ]
        },
        {
          "output_type": "execute_result",
          "data": {
            "text/plain": [
              "[0.42150616000142505,\n",
              " 0.38059562824644055,\n",
              " 0.3704827187736578,\n",
              " 0.31987844617667754,\n",
              " 0.30052255992323545,\n",
              " 0.2800727866038942,\n",
              " 0.2740761050924829,\n",
              " 0.2525035359621213,\n",
              " 0.24474886347671315]"
            ]
          },
          "metadata": {},
          "execution_count": 92
        }
      ]
    },
    {
      "cell_type": "code",
      "source": [
        "#for hierarchical clustering technique with affinity='l1'and linkage='complete'\n",
        "\n",
        "nc=range(2,11)\n",
        "l=[]\n",
        "for i in nc:\n",
        "  model=AgglomerativeClustering(n_clusters=i,affinity='l1',linkage='complete')\n",
        "  l.append(silhouette_score(scaled_features,model.fit_predict(scaled_features)))\n",
        "\n",
        "\n",
        "#plotting\n",
        "plt.figure(figsize=(8,4))\n",
        "plt.style.use('seaborn-darkgrid')\n",
        "plt.scatter(nc,l,s=50,color='black')\n",
        "plt.plot(nc,l,color='red',linestyle='-.')\n",
        "plt.xticks(range(1,11))\n",
        "plt.show();\n",
        "\n",
        "\n",
        "\n",
        "\n",
        "# printing highest Silhouette score for the respective technique\n",
        "print(max(l),'for',nc[l.index(max(l))],\"clusters\")\n",
        "\n",
        "l"
      ],
      "metadata": {
        "colab": {
          "base_uri": "https://localhost:8080/",
          "height": 537
        },
        "id": "Xt3mthZXTiaL",
        "outputId": "c8bd116a-e436-4ad8-adb3-41a35e102258"
      },
      "execution_count": 93,
      "outputs": [
        {
          "output_type": "display_data",
          "data": {
            "text/plain": [
              "<Figure size 800x400 with 1 Axes>"
            ],
            "image/png": "[encoded data removed]"
          },
          "metadata": {}
        },
        {
          "output_type": "stream",
          "name": "stdout",
          "text": [
            "0.42150616000142505 for 2 clusters\n"
          ]
        },
        {
          "output_type": "execute_result",
          "data": {
            "text/plain": [
              "[0.42150616000142505,\n",
              " 0.3174819581729578,\n",
              " 0.32468820461360415,\n",
              " 0.2856589857160643,\n",
              " 0.23060241591245334,\n",
              " 0.2237450913021125,\n",
              " 0.20996972769488906,\n",
              " 0.21558940186596345,\n",
              " 0.21765883871596808]"
            ]
          },
          "metadata": {},
          "execution_count": 93
        }
      ]
    },
    {
      "cell_type": "code",
      "source": [
        "#for hierarchical clustering technique with affinity='l2'and linkage='average'\n",
        "\n",
        "nc=range(2,11)\n",
        "l=[]\n",
        "for i in nc:\n",
        "  model=AgglomerativeClustering(n_clusters=i,affinity='l2',linkage='average')\n",
        "  l.append(silhouette_score(scaled_features,model.fit_predict(scaled_features)))\n",
        "\n",
        "\n",
        "#plotting\n",
        "plt.figure(figsize=(8,4))\n",
        "plt.style.use('seaborn-darkgrid')\n",
        "plt.scatter(nc,l,s=50,color='black')\n",
        "plt.plot(nc,l,color='red',linestyle='-.')\n",
        "plt.xticks(range(1,11))\n",
        "plt.show();\n",
        "\n",
        "\n",
        "\n",
        "\n",
        "# printing highest Silhouette score for the respective technique\n",
        "print(max(l),'for',nc[l.index(max(l))],\"clusters\")\n",
        "\n",
        "l"
      ],
      "metadata": {
        "colab": {
          "base_uri": "https://localhost:8080/",
          "height": 537
        },
        "id": "3ejXGB1sTifi",
        "outputId": "1b4d85f7-6bc4-4062-a424-e1b167450915"
      },
      "execution_count": 94,
      "outputs": [
        {
          "output_type": "display_data",
          "data": {
            "text/plain": [
              "<Figure size 800x400 with 1 Axes>"
            ],
            "image/png": "[encoded data removed]"
          },
          "metadata": {}
        },
        {
          "output_type": "stream",
          "name": "stdout",
          "text": [
            "0.42364457559625074 for 2 clusters\n"
          ]
        },
        {
          "output_type": "execute_result",
          "data": {
            "text/plain": [
              "[0.42364457559625074,\n",
              " 0.35149572430421583,\n",
              " 0.36992391140277175,\n",
              " 0.3257478134255528,\n",
              " 0.2815096427769605,\n",
              " 0.24382999528072172,\n",
              " 0.2506774565216013,\n",
              " 0.2169454704716504,\n",
              " 0.21877737263827413]"
            ]
          },
          "metadata": {},
          "execution_count": 94
        }
      ]
    },
    {
      "cell_type": "code",
      "source": [
        "#for hierarchical clustering technique with affinity='l2'and linkage='complete'\n",
        "\n",
        "nc=range(2,11)\n",
        "l=[]\n",
        "for i in nc:\n",
        "  model=AgglomerativeClustering(n_clusters=i,affinity='l2',linkage='complete')\n",
        "  l.append(silhouette_score(scaled_features,model.fit_predict(scaled_features)))\n",
        "\n",
        "\n",
        "#plotting\n",
        "plt.figure(figsize=(8,4))\n",
        "plt.style.use('seaborn-darkgrid')\n",
        "plt.scatter(nc,l,s=50,color='black')\n",
        "plt.plot(nc,l,color='red',linestyle='-.')\n",
        "plt.xticks(range(1,11))\n",
        "plt.show();\n",
        "\n",
        "\n",
        "\n",
        "\n",
        "# printing highest Silhouette score for the respective technique\n",
        "print(max(l),'for',nc[l.index(max(l))],\"clusters\")\n",
        "\n",
        "l"
      ],
      "metadata": {
        "colab": {
          "base_uri": "https://localhost:8080/",
          "height": 537
        },
        "id": "FDQFHFHlTilO",
        "outputId": "aa945c80-eaf1-4b37-aa28-18cf1501171c"
      },
      "execution_count": 95,
      "outputs": [
        {
          "output_type": "display_data",
          "data": {
            "text/plain": [
              "<Figure size 800x400 with 1 Axes>"
            ],
            "image/png": "[encoded data removed]"
          },
          "metadata": {}
        },
        {
          "output_type": "stream",
          "name": "stdout",
          "text": [
            "0.42364457559625074 for 2 clusters\n"
          ]
        },
        {
          "output_type": "execute_result",
          "data": {
            "text/plain": [
              "[0.42364457559625074,\n",
              " 0.30877213909512063,\n",
              " 0.3060729442426308,\n",
              " 0.3056360903608855,\n",
              " 0.2728435659779423,\n",
              " 0.27387642168206544,\n",
              " 0.24780604916967508,\n",
              " 0.2400551166172384,\n",
              " 0.20643912850693227]"
            ]
          },
          "metadata": {},
          "execution_count": 95
        }
      ]
    },
    {
      "cell_type": "markdown",
      "source": [
        " **Silhouette score** :Silhouette Coefficient or silhouette score is a metric used to calculate the goodness of a clustering technique. Its value ranges from -1 to 1.Silhouette score is higher the better.<br>\n",
        "\n",
        "\n",
        "---\n",
        "\n",
        "\n",
        "We calculated silhouette score for different clustering techniques<br>\n",
        "\n",
        "Representing highest Silhouette score for each technique:<br>\n",
        "1. For KMean clustering technique:\n",
        "> 0.42364457559625074 for 2 clusters\n",
        "\n",
        "2. For hierarchical clustering technique with affinity='l1'and linkage='average'\n",
        "> 0.42150616000142505 for 2 clusters\n",
        "\n",
        "3. For hierarchical clustering technique with affinity='l1'and linkage='complete'\n",
        "> 0.42150616000142505 for 2 clusters\n",
        "\n",
        "4. For hierarchical clustering technique with affinity='l2'and linkage='average'\n",
        "> 0.42364457559625074 for 2 clusters\n",
        "\n",
        "5. For hierarchical clustering technique with affinity='l2'and linkage='complete'\n",
        "> 0.42364457559625074 for 2 clusters\n",
        "\n",
        "\n",
        "\n",
        "\n",
        "\n",
        "*   We will avoid using 'single' as  linkage because it mainly focus on the structure\n"
      ],
      "metadata": {
        "id": "czn6YvdJUZRS"
      }
    },
    {
      "cell_type": "markdown",
      "source": [
        "\n",
        "\n",
        "**We will go ahed with 2 clusters**"
      ],
      "metadata": {
        "id": "_yJFXXI0V8oB"
      }
    },
    {
      "cell_type": "code",
      "source": [],
      "metadata": {
        "id": "FrXZYG3pTlyi"
      },
      "execution_count": 95,
      "outputs": []
    },
    {
      "cell_type": "code",
      "source": [],
      "metadata": {
        "id": "PFELU_nDTl24"
      },
      "execution_count": 95,
      "outputs": []
    },
    {
      "cell_type": "code",
      "source": [],
      "metadata": {
        "id": "EhbJ766nDMeS"
      },
      "execution_count": 95,
      "outputs": []
    },
    {
      "cell_type": "markdown",
      "source": [
        "\n",
        "\n",
        "---\n",
        "\n",
        "\n",
        "\n",
        "---\n",
        "\n",
        "\n",
        "#Clustering on Airlines dataset"
      ],
      "metadata": {
        "id": "2g8lHl9O3Ql8"
      }
    },
    {
      "cell_type": "markdown",
      "source": [
        "Problem 2:<br>\n",
        "Perform clustering (hierarchical,K means clustering and DBSCAN) for the airlines data to obtain optimum number of clusters.\n",
        "Draw the inferences from the clusters obtained.\n",
        "\n",
        "Data Description:\n",
        "\n",
        "> The file EastWestAirlines contains information on passengers who belong to an airline’s frequent flier program. For each passenger the data include information on their mileage history and on different ways they accrued or spent miles in the last year. The goal is to try to identify clusters of passengers that have similar characteristics for the purpose of targeting different segments for different types of mileage offers\n",
        "\n",
        "\n",
        "\n",
        "\n",
        "> ID --Unique ID\n",
        "\n",
        "> Balance--Number of miles eligible for award travel\n",
        "\n",
        "> Qual_mile--Number of miles counted as qualifying for Topflight status\n",
        "\n",
        "> cc1_miles -- Number of miles earned with freq. flyer credit card in the past 12 months:\n",
        "\n",
        "> cc2_miles -- Number of miles earned with Rewards credit card\n",
        "in the past 12 months:\n",
        "\n",
        "> cc3_miles -- Number of miles earned with Small Business credit card in the past 12 months:\n",
        "\n",
        "> 1 = under 5,000 <br>\n",
        " 2 = 5,000 - 10,000 <br>\n",
        " 3 = 10,001 - 25,000<br>\n",
        " 4 = 25,001 - 50,000<br>\n",
        " 5 = over 50,000\n",
        "\n",
        "> Bonus_miles--Number of miles earned from non-flight bonus transactions in the past 12 months\n",
        "\n",
        "> Bonus_trans--Number of non-flight bonus transactions in the past 12 months\n",
        "\n",
        "> Flight_miles_12mo--Number of flight miles in the past 12 months\n",
        "\n",
        "> Flight_trans_12--Number of flight transactions in the past 12 months\n",
        "\n",
        "> Days_since_enrolled--Number of days since enrolled in flier program\n",
        "\n",
        "> Award--whether that person had award flight (free flight) or not\n",
        "\n",
        "\n"
      ],
      "metadata": {
        "id": "2KL7hzATxSlk"
      }
    },
    {
      "cell_type": "code",
      "source": [
        "#Importing data\n",
        "#uploading excel 2nd sheet\n",
        "\n",
        "airlines=pd.read_excel('EastWestAirlines.xlsx','data')\n",
        "airlines"
      ],
      "metadata": {
        "colab": {
          "base_uri": "https://localhost:8080/",
          "height": 443
        },
        "id": "cC-8zU982MH_",
        "outputId": "8682024d-f755-4de5-9ede-1d588252661f"
      },
      "execution_count": 96,
      "outputs": [
        {
          "output_type": "execute_result",
          "data": {
            "text/plain": [
              "       ID#  Balance  Qual_miles  cc1_miles  cc2_miles  cc3_miles  Bonus_miles  \\\n",
              "0        1    28143           0          1          1          1          174   \n",
              "1        2    19244           0          1          1          1          215   \n",
              "2        3    41354           0          1          1          1         4123   \n",
              "3        4    14776           0          1          1          1          500   \n",
              "4        5    97752           0          4          1          1        43300   \n",
              "...    ...      ...         ...        ...        ...        ...          ...   \n",
              "3994  4017    18476           0          1          1          1         8525   \n",
              "3995  4018    64385           0          1          1          1          981   \n",
              "3996  4019    73597           0          3          1          1        25447   \n",
              "3997  4020    54899           0          1          1          1          500   \n",
              "3998  4021     3016           0          1          1          1            0   \n",
              "\n",
              "      Bonus_trans  Flight_miles_12mo  Flight_trans_12  Days_since_enroll  \\\n",
              "0               1                  0                0               7000   \n",
              "1               2                  0                0               6968   \n",
              "2               4                  0                0               7034   \n",
              "3               1                  0                0               6952   \n",
              "4              26               2077                4               6935   \n",
              "...           ...                ...              ...                ...   \n",
              "3994            4                200                1               1403   \n",
              "3995            5                  0                0               1395   \n",
              "3996            8                  0                0               1402   \n",
              "3997            1                500                1               1401   \n",
              "3998            0                  0                0               1398   \n",
              "\n",
              "      Award?  \n",
              "0          0  \n",
              "1          0  \n",
              "2          0  \n",
              "3          0  \n",
              "4          1  \n",
              "...      ...  \n",
              "3994       1  \n",
              "3995       1  \n",
              "3996       1  \n",
              "3997       0  \n",
              "3998       0  \n",
              "\n",
              "[3999 rows x 12 columns]"
            ],
            "text/html": [
              "\n",
              "  <div id=\"df-b27fe206-aa77-42e3-be5e-2ca41400535b\" class=\"colab-df-container\">\n",
              "    <div>\n",
              "<style scoped>\n",
              "    .dataframe tbody tr th:only-of-type {\n",
              "        vertical-align: middle;\n",
              "    }\n",
              "\n",
              "    .dataframe tbody tr th {\n",
              "        vertical-align: top;\n",
              "    }\n",
              "\n",
              "    .dataframe thead th {\n",
              "        text-align: right;\n",
              "    }\n",
              "</style>\n",
              "<table border=\"1\" class=\"dataframe\">\n",
              "  <thead>\n",
              "    <tr style=\"text-align: right;\">\n",
              "      <th></th>\n",
              "      <th>ID#</th>\n",
              "      <th>Balance</th>\n",
              "      <th>Qual_miles</th>\n",
              "      <th>cc1_miles</th>\n",
              "      <th>cc2_miles</th>\n",
              "      <th>cc3_miles</th>\n",
              "      <th>Bonus_miles</th>\n",
              "      <th>Bonus_trans</th>\n",
              "      <th>Flight_miles_12mo</th>\n",
              "      <th>Flight_trans_12</th>\n",
              "      <th>Days_since_enroll</th>\n",
              "      <th>Award?</th>\n",
              "    </tr>\n",
              "  </thead>\n",
              "  <tbody>\n",
              "    <tr>\n",
              "      <th>0</th>\n",
              "      <td>1</td>\n",
              "      <td>28143</td>\n",
              "      <td>0</td>\n",
              "      <td>1</td>\n",
              "      <td>1</td>\n",
              "      <td>1</td>\n",
              "      <td>174</td>\n",
              "      <td>1</td>\n",
              "      <td>0</td>\n",
              "      <td>0</td>\n",
              "      <td>7000</td>\n",
              "      <td>0</td>\n",
              "    </tr>\n",
              "    <tr>\n",
              "      <th>1</th>\n",
              "      <td>2</td>\n",
              "      <td>19244</td>\n",
              "      <td>0</td>\n",
              "      <td>1</td>\n",
              "      <td>1</td>\n",
              "      <td>1</td>\n",
              "      <td>215</td>\n",
              "      <td>2</td>\n",
              "      <td>0</td>\n",
              "      <td>0</td>\n",
              "      <td>6968</td>\n",
              "      <td>0</td>\n",
              "    </tr>\n",
              "    <tr>\n",
              "      <th>2</th>\n",
              "      <td>3</td>\n",
              "      <td>41354</td>\n",
              "      <td>0</td>\n",
              "      <td>1</td>\n",
              "      <td>1</td>\n",
              "      <td>1</td>\n",
              "      <td>4123</td>\n",
              "      <td>4</td>\n",
              "      <td>0</td>\n",
              "      <td>0</td>\n",
              "      <td>7034</td>\n",
              "      <td>0</td>\n",
              "    </tr>\n",
              "    <tr>\n",
              "      <th>3</th>\n",
              "      <td>4</td>\n",
              "      <td>14776</td>\n",
              "      <td>0</td>\n",
              "      <td>1</td>\n",
              "      <td>1</td>\n",
              "      <td>1</td>\n",
              "      <td>500</td>\n",
              "      <td>1</td>\n",
              "      <td>0</td>\n",
              "      <td>0</td>\n",
              "      <td>6952</td>\n",
              "      <td>0</td>\n",
              "    </tr>\n",
              "    <tr>\n",
              "      <th>4</th>\n",
              "      <td>5</td>\n",
              "      <td>97752</td>\n",
              "      <td>0</td>\n",
              "      <td>4</td>\n",
              "      <td>1</td>\n",
              "      <td>1</td>\n",
              "      <td>43300</td>\n",
              "      <td>26</td>\n",
              "      <td>2077</td>\n",
              "      <td>4</td>\n",
              "      <td>6935</td>\n",
              "      <td>1</td>\n",
              "    </tr>\n",
              "    <tr>\n",
              "      <th>...</th>\n",
              "      <td>...</td>\n",
              "      <td>...</td>\n",
              "      <td>...</td>\n",
              "      <td>...</td>\n",
              "      <td>...</td>\n",
              "      <td>...</td>\n",
              "      <td>...</td>\n",
              "      <td>...</td>\n",
              "      <td>...</td>\n",
              "      <td>...</td>\n",
              "      <td>...</td>\n",
              "      <td>...</td>\n",
              "    </tr>\n",
              "    <tr>\n",
              "      <th>3994</th>\n",
              "      <td>4017</td>\n",
              "      <td>18476</td>\n",
              "      <td>0</td>\n",
              "      <td>1</td>\n",
              "      <td>1</td>\n",
              "      <td>1</td>\n",
              "      <td>8525</td>\n",
              "      <td>4</td>\n",
              "      <td>200</td>\n",
              "      <td>1</td>\n",
              "      <td>1403</td>\n",
              "      <td>1</td>\n",
              "    </tr>\n",
              "    <tr>\n",
              "      <th>3995</th>\n",
              "      <td>4018</td>\n",
              "      <td>64385</td>\n",
              "      <td>0</td>\n",
              "      <td>1</td>\n",
              "      <td>1</td>\n",
              "      <td>1</td>\n",
              "      <td>981</td>\n",
              "      <td>5</td>\n",
              "      <td>0</td>\n",
              "      <td>0</td>\n",
              "      <td>1395</td>\n",
              "      <td>1</td>\n",
              "    </tr>\n",
              "    <tr>\n",
              "      <th>3996</th>\n",
              "      <td>4019</td>\n",
              "      <td>73597</td>\n",
              "      <td>0</td>\n",
              "      <td>3</td>\n",
              "      <td>1</td>\n",
              "      <td>1</td>\n",
              "      <td>25447</td>\n",
              "      <td>8</td>\n",
              "      <td>0</td>\n",
              "      <td>0</td>\n",
              "      <td>1402</td>\n",
              "      <td>1</td>\n",
              "    </tr>\n",
              "    <tr>\n",
              "      <th>3997</th>\n",
              "      <td>4020</td>\n",
              "      <td>54899</td>\n",
              "      <td>0</td>\n",
              "      <td>1</td>\n",
              "      <td>1</td>\n",
              "      <td>1</td>\n",
              "      <td>500</td>\n",
              "      <td>1</td>\n",
              "      <td>500</td>\n",
              "      <td>1</td>\n",
              "      <td>1401</td>\n",
              "      <td>0</td>\n",
              "    </tr>\n",
              "    <tr>\n",
              "      <th>3998</th>\n",
              "      <td>4021</td>\n",
              "      <td>3016</td>\n",
              "      <td>0</td>\n",
              "      <td>1</td>\n",
              "      <td>1</td>\n",
              "      <td>1</td>\n",
              "      <td>0</td>\n",
              "      <td>0</td>\n",
              "      <td>0</td>\n",
              "      <td>0</td>\n",
              "      <td>1398</td>\n",
              "      <td>0</td>\n",
              "    </tr>\n",
              "  </tbody>\n",
              "</table>\n",
              "<p>3999 rows × 12 columns</p>\n",
              "</div>\n",
              "    <div class=\"colab-df-buttons\">\n",
              "\n",
              "  <div class=\"colab-df-container\">\n",
              "    <button class=\"colab-df-convert\" onclick=\"convertToInteractive('df-b27fe206-aa77-42e3-be5e-2ca41400535b')\"\n",
              "            title=\"Convert this dataframe to an interactive table.\"\n",
              "            style=\"display:none;\">\n",
              "\n",
              "  <svg xmlns=\"http://www.w3.org/2000/svg\" height=\"24px\" viewBox=\"0 -960 960 960\">\n",
              "    <path d=\"M120-120v-720h720v720H120Zm60-500h600v-160H180v160Zm220 220h160v-160H400v160Zm0 220h160v-160H400v160ZM180-400h160v-160H180v160Zm440 0h160v-160H620v160ZM180-180h160v-160H180v160Zm440 0h160v-160H620v160Z\"/>\n",
              "  </svg>\n",
              "    </button>\n",
              "\n",
              "  <style>\n",
              "    .colab-df-container {\n",
              "      display:flex;\n",
              "      gap: 12px;\n",
              "    }\n",
              "\n",
              "    .colab-df-convert {\n",
              "      background-color: #E8F0FE;\n",
              "      border: none;\n",
              "      border-radius: 50%;\n",
              "      cursor: pointer;\n",
              "      display: none;\n",
              "      fill: #1967D2;\n",
              "      height: 32px;\n",
              "      padding: 0 0 0 0;\n",
              "      width: 32px;\n",
              "    }\n",
              "\n",
              "    .colab-df-convert:hover {\n",
              "      background-color: #E2EBFA;\n",
              "      box-shadow: 0px 1px 2px rgba(60, 64, 67, 0.3), 0px 1px 3px 1px rgba(60, 64, 67, 0.15);\n",
              "      fill: #174EA6;\n",
              "    }\n",
              "\n",
              "    .colab-df-buttons div {\n",
              "      margin-bottom: 4px;\n",
              "    }\n",
              "\n",
              "    [theme=dark] .colab-df-convert {\n",
              "      background-color: #3B4455;\n",
              "      fill: #D2E3FC;\n",
              "    }\n",
              "\n",
              "    [theme=dark] .colab-df-convert:hover {\n",
              "      background-color: #434B5C;\n",
              "      box-shadow: 0px 1px 3px 1px rgba(0, 0, 0, 0.15);\n",
              "      filter: drop-shadow(0px 1px 2px rgba(0, 0, 0, 0.3));\n",
              "      fill: #FFFFFF;\n",
              "    }\n",
              "  </style>\n",
              "\n",
              "    <script>\n",
              "      const buttonEl =\n",
              "        document.querySelector('#df-b27fe206-aa77-42e3-be5e-2ca41400535b button.colab-df-convert');\n",
              "      buttonEl.style.display =\n",
              "        google.colab.kernel.accessAllowed ? 'block' : 'none';\n",
              "\n",
              "      async function convertToInteractive(key) {\n",
              "        const element = document.querySelector('#df-b27fe206-aa77-42e3-be5e-2ca41400535b');\n",
              "        const dataTable =\n",
              "          await google.colab.kernel.invokeFunction('convertToInteractive',\n",
              "                                                    [key], {});\n",
              "        if (!dataTable) return;\n",
              "\n",
              "        const docLinkHtml = 'Like what you see? Visit the ' +\n",
              "          '<a target=\"_blank\" href=https://colab.research.google.com/notebooks/data_table.ipynb>data table notebook</a>'\n",
              "          + ' to learn more about interactive tables.';\n",
              "        element.innerHTML = '';\n",
              "        dataTable['output_type'] = 'display_data';\n",
              "        await google.colab.output.renderOutput(dataTable, element);\n",
              "        const docLink = document.createElement('div');\n",
              "        docLink.innerHTML = docLinkHtml;\n",
              "        element.appendChild(docLink);\n",
              "      }\n",
              "    </script>\n",
              "  </div>\n",
              "\n",
              "\n",
              "<div id=\"df-90285f36-aa60-4833-b85b-f5102ea3a7d0\">\n",
              "  <button class=\"colab-df-quickchart\" onclick=\"quickchart('df-90285f36-aa60-4833-b85b-f5102ea3a7d0')\"\n",
              "            title=\"Suggest charts\"\n",
              "            style=\"display:none;\">\n",
              "\n",
              "<svg xmlns=\"http://www.w3.org/2000/svg\" height=\"24px\"viewBox=\"0 0 24 24\"\n",
              "     width=\"24px\">\n",
              "    <g>\n",
              "        <path d=\"M19 3H5c-1.1 0-2 .9-2 2v14c0 1.1.9 2 2 2h14c1.1 0 2-.9 2-2V5c0-1.1-.9-2-2-2zM9 17H7v-7h2v7zm4 0h-2V7h2v10zm4 0h-2v-4h2v4z\"/>\n",
              "    </g>\n",
              "</svg>\n",
              "  </button>\n",
              "\n",
              "<style>\n",
              "  .colab-df-quickchart {\n",
              "      --bg-color: #E8F0FE;\n",
              "      --fill-color: #1967D2;\n",
              "      --hover-bg-color: #E2EBFA;\n",
              "      --hover-fill-color: #174EA6;\n",
              "      --disabled-fill-color: #AAA;\n",
              "      --disabled-bg-color: #DDD;\n",
              "  }\n",
              "\n",
              "  [theme=dark] .colab-df-quickchart {\n",
              "      --bg-color: #3B4455;\n",
              "      --fill-color: #D2E3FC;\n",
              "      --hover-bg-color: #434B5C;\n",
              "      --hover-fill-color: #FFFFFF;\n",
              "      --disabled-bg-color: #3B4455;\n",
              "      --disabled-fill-color: #666;\n",
              "  }\n",
              "\n",
              "  .colab-df-quickchart {\n",
              "    background-color: var(--bg-color);\n",
              "    border: none;\n",
              "    border-radius: 50%;\n",
              "    cursor: pointer;\n",
              "    display: none;\n",
              "    fill: var(--fill-color);\n",
              "    height: 32px;\n",
              "    padding: 0;\n",
              "    width: 32px;\n",
              "  }\n",
              "\n",
              "  .colab-df-quickchart:hover {\n",
              "    background-color: var(--hover-bg-color);\n",
              "    box-shadow: 0 1px 2px rgba(60, 64, 67, 0.3), 0 1px 3px 1px rgba(60, 64, 67, 0.15);\n",
              "    fill: var(--button-hover-fill-color);\n",
              "  }\n",
              "\n",
              "  .colab-df-quickchart-complete:disabled,\n",
              "  .colab-df-quickchart-complete:disabled:hover {\n",
              "    background-color: var(--disabled-bg-color);\n",
              "    fill: var(--disabled-fill-color);\n",
              "    box-shadow: none;\n",
              "  }\n",
              "\n",
              "  .colab-df-spinner {\n",
              "    border: 2px solid var(--fill-color);\n",
              "    border-color: transparent;\n",
              "    border-bottom-color: var(--fill-color);\n",
              "    animation:\n",
              "      spin 1s steps(1) infinite;\n",
              "  }\n",
              "\n",
              "  @keyframes spin {\n",
              "    0% {\n",
              "      border-color: transparent;\n",
              "      border-bottom-color: var(--fill-color);\n",
              "      border-left-color: var(--fill-color);\n",
              "    }\n",
              "    20% {\n",
              "      border-color: transparent;\n",
              "      border-left-color: var(--fill-color);\n",
              "      border-top-color: var(--fill-color);\n",
              "    }\n",
              "    30% {\n",
              "      border-color: transparent;\n",
              "      border-left-color: var(--fill-color);\n",
              "      border-top-color: var(--fill-color);\n",
              "      border-right-color: var(--fill-color);\n",
              "    }\n",
              "    40% {\n",
              "      border-color: transparent;\n",
              "      border-right-color: var(--fill-color);\n",
              "      border-top-color: var(--fill-color);\n",
              "    }\n",
              "    60% {\n",
              "      border-color: transparent;\n",
              "      border-right-color: var(--fill-color);\n",
              "    }\n",
              "    80% {\n",
              "      border-color: transparent;\n",
              "      border-right-color: var(--fill-color);\n",
              "      border-bottom-color: var(--fill-color);\n",
              "    }\n",
              "    90% {\n",
              "      border-color: transparent;\n",
              "      border-bottom-color: var(--fill-color);\n",
              "    }\n",
              "  }\n",
              "</style>\n",
              "\n",
              "  <script>\n",
              "    async function quickchart(key) {\n",
              "      const quickchartButtonEl =\n",
              "        document.querySelector('#' + key + ' button');\n",
              "      quickchartButtonEl.disabled = true;  // To prevent multiple clicks.\n",
              "      quickchartButtonEl.classList.add('colab-df-spinner');\n",
              "      try {\n",
              "        const charts = await google.colab.kernel.invokeFunction(\n",
              "            'suggestCharts', [key], {});\n",
              "      } catch (error) {\n",
              "        console.error('Error during call to suggestCharts:', error);\n",
              "      }\n",
              "      quickchartButtonEl.classList.remove('colab-df-spinner');\n",
              "      quickchartButtonEl.classList.add('colab-df-quickchart-complete');\n",
              "    }\n",
              "    (() => {\n",
              "      let quickchartButtonEl =\n",
              "        document.querySelector('#df-90285f36-aa60-4833-b85b-f5102ea3a7d0 button');\n",
              "      quickchartButtonEl.style.display =\n",
              "        google.colab.kernel.accessAllowed ? 'block' : 'none';\n",
              "    })();\n",
              "  </script>\n",
              "</div>\n",
              "    </div>\n",
              "  </div>\n"
            ]
          },
          "metadata": {},
          "execution_count": 96
        }
      ]
    },
    {
      "cell_type": "code",
      "source": [
        "airlines.columns"
      ],
      "metadata": {
        "id": "EM8AfLG-2MPC",
        "colab": {
          "base_uri": "https://localhost:8080/"
        },
        "outputId": "9fda7bc4-31d5-4ef4-fe19-00402315bf2c"
      },
      "execution_count": 97,
      "outputs": [
        {
          "output_type": "execute_result",
          "data": {
            "text/plain": [
              "Index(['ID#', 'Balance', 'Qual_miles', 'cc1_miles', 'cc2_miles', 'cc3_miles',\n",
              "       'Bonus_miles', 'Bonus_trans', 'Flight_miles_12mo', 'Flight_trans_12',\n",
              "       'Days_since_enroll', 'Award?'],\n",
              "      dtype='object')"
            ]
          },
          "metadata": {},
          "execution_count": 97
        }
      ]
    },
    {
      "cell_type": "code",
      "source": [
        "airlines.shape"
      ],
      "metadata": {
        "id": "qlJT6Bci2MS4",
        "colab": {
          "base_uri": "https://localhost:8080/"
        },
        "outputId": "5db04fdb-a73e-4e95-e1d7-c1448cf1f907"
      },
      "execution_count": 98,
      "outputs": [
        {
          "output_type": "execute_result",
          "data": {
            "text/plain": [
              "(3999, 12)"
            ]
          },
          "metadata": {},
          "execution_count": 98
        }
      ]
    },
    {
      "cell_type": "code",
      "source": [
        "airlines.isna().sum()"
      ],
      "metadata": {
        "id": "XRm5VdYS2MXX",
        "colab": {
          "base_uri": "https://localhost:8080/"
        },
        "outputId": "481aeff4-ce3a-4123-de28-c208c4ce2817"
      },
      "execution_count": 99,
      "outputs": [
        {
          "output_type": "execute_result",
          "data": {
            "text/plain": [
              "ID#                  0\n",
              "Balance              0\n",
              "Qual_miles           0\n",
              "cc1_miles            0\n",
              "cc2_miles            0\n",
              "cc3_miles            0\n",
              "Bonus_miles          0\n",
              "Bonus_trans          0\n",
              "Flight_miles_12mo    0\n",
              "Flight_trans_12      0\n",
              "Days_since_enroll    0\n",
              "Award?               0\n",
              "dtype: int64"
            ]
          },
          "metadata": {},
          "execution_count": 99
        }
      ]
    },
    {
      "cell_type": "code",
      "source": [
        "airlines['ID#'].value_counts()"
      ],
      "metadata": {
        "colab": {
          "base_uri": "https://localhost:8080/"
        },
        "id": "_RGZzRb2bQYF",
        "outputId": "4f8fd00c-9510-48db-fba8-8a5ab1b674c5"
      },
      "execution_count": 100,
      "outputs": [
        {
          "output_type": "execute_result",
          "data": {
            "text/plain": [
              "1       1\n",
              "2691    1\n",
              "2678    1\n",
              "2679    1\n",
              "2680    1\n",
              "       ..\n",
              "1351    1\n",
              "1352    1\n",
              "1353    1\n",
              "1354    1\n",
              "4021    1\n",
              "Name: ID#, Length: 3999, dtype: int64"
            ]
          },
          "metadata": {},
          "execution_count": 100
        }
      ]
    },
    {
      "cell_type": "code",
      "source": [
        "airlines['ID#'].nunique()"
      ],
      "metadata": {
        "colab": {
          "base_uri": "https://localhost:8080/"
        },
        "id": "uKF0AEUibje8",
        "outputId": "cb70b363-fac4-45ad-9420-7b0068569cb1"
      },
      "execution_count": 101,
      "outputs": [
        {
          "output_type": "execute_result",
          "data": {
            "text/plain": [
              "3999"
            ]
          },
          "metadata": {},
          "execution_count": 101
        }
      ]
    },
    {
      "cell_type": "code",
      "source": [
        "airlines['ID#'].unique()"
      ],
      "metadata": {
        "colab": {
          "base_uri": "https://localhost:8080/"
        },
        "id": "P6zytWpQb5Hj",
        "outputId": "1db63d6e-df15-4c75-cfa7-5dbeb30b38f7"
      },
      "execution_count": 102,
      "outputs": [
        {
          "output_type": "execute_result",
          "data": {
            "text/plain": [
              "array([   1,    2,    3, ..., 4019, 4020, 4021])"
            ]
          },
          "metadata": {},
          "execution_count": 102
        }
      ]
    },
    {
      "cell_type": "code",
      "source": [
        "airlines['ID#'].duplicated().value_counts()"
      ],
      "metadata": {
        "colab": {
          "base_uri": "https://localhost:8080/"
        },
        "id": "HAjBUkcyeFWG",
        "outputId": "2aca45ad-befa-4395-aef4-07b876a7e2a6"
      },
      "execution_count": 103,
      "outputs": [
        {
          "output_type": "execute_result",
          "data": {
            "text/plain": [
              "False    3999\n",
              "Name: ID#, dtype: int64"
            ]
          },
          "metadata": {},
          "execution_count": 103
        }
      ]
    },
    {
      "cell_type": "code",
      "source": [
        "#Each id is unique as there is no duplicate value in 'ID#' column"
      ],
      "metadata": {
        "id": "Ea_2BWTrb9aI"
      },
      "execution_count": 104,
      "outputs": []
    },
    {
      "cell_type": "code",
      "source": [
        "features=airlines.iloc[:,1:]"
      ],
      "metadata": {
        "id": "jObe0kr4egxK"
      },
      "execution_count": 105,
      "outputs": []
    },
    {
      "cell_type": "code",
      "source": [
        "scaler=MinMaxScaler()\n",
        "scaled_features=scaler.fit_transform(features)\n",
        "print(scaled_features)"
      ],
      "metadata": {
        "colab": {
          "base_uri": "https://localhost:8080/"
        },
        "id": "e1WaOgtGlZ2X",
        "outputId": "5e0c9874-2cf1-4d35-d175-c5b9570dd01e"
      },
      "execution_count": 106,
      "outputs": [
        {
          "output_type": "stream",
          "name": "stdout",
          "text": [
            "[[0.01650773 0.         0.         ... 0.         0.84374246 0.        ]\n",
            " [0.01128788 0.         0.         ... 0.         0.83988425 0.        ]\n",
            " [0.02425685 0.         0.         ... 0.         0.84784181 0.        ]\n",
            " ...\n",
            " [0.0431695  0.         0.5        ... 0.         0.16879672 1.        ]\n",
            " [0.03220189 0.         0.         ... 0.01886792 0.16867615 0.        ]\n",
            " [0.00176908 0.         0.         ... 0.         0.16831444 0.        ]]\n"
          ]
        }
      ]
    },
    {
      "cell_type": "markdown",
      "source": [
        "**CLUSTERING TECHNIQUES**"
      ],
      "metadata": {
        "id": "9C5KUD0qm5t8"
      }
    },
    {
      "cell_type": "markdown",
      "source": [
        "### **Hierarchical clustering**"
      ],
      "metadata": {
        "id": "j3fDCm4Tm53D"
      }
    },
    {
      "cell_type": "code",
      "source": [
        "model=AgglomerativeClustering(n_clusters=3,affinity=\"l2\",linkage=\"complete\")\n",
        "model.fit_predict(scaled_features)"
      ],
      "metadata": {
        "colab": {
          "base_uri": "https://localhost:8080/"
        },
        "id": "JgHFhuHImR2r",
        "outputId": "06438074-6d1f-4d0a-8ce4-c3163ba7b99c"
      },
      "execution_count": 107,
      "outputs": [
        {
          "output_type": "execute_result",
          "data": {
            "text/plain": [
              "array([2, 2, 2, ..., 0, 2, 2])"
            ]
          },
          "metadata": {},
          "execution_count": 107
        }
      ]
    },
    {
      "cell_type": "code",
      "source": [
        "#Plotting Dendrogram\n",
        "\n",
        "from sklearn.cluster import AgglomerativeClustering           #for hirarchical clustering\n",
        "from scipy.cluster.hierarchy import dendrogram, linkage\n",
        "from scipy.spatial.distance import pdist                      #Spatial distance refers to the measurement of the separation\n",
        "                                                              #between two or more points in space.\n",
        "from matplotlib import pyplot as plt\n",
        "\n",
        "xdist=pdist(scaled_features,metric='euclidean')\n",
        "linked=linkage(xdist,'ward')                                  #Ward's method means calculating the incremental sum of squares\n",
        "\n",
        "plt.figure(figsize=(12,7))\n",
        "dendrogram(linked,\n",
        "           orientation='top',\n",
        "           distance_sort='descending',\n",
        "           show_leaf_counts=True)                             #distance_sort='descending'  ????  ,show_leaf_counts=True ????\n",
        "\n",
        "plt.show()\n"
      ],
      "metadata": {
        "colab": {
          "base_uri": "https://localhost:8080/",
          "height": 596
        },
        "id": "YJ-TSUKfnEyO",
        "outputId": "637a5a4f-6e36-4645-8e76-c0cd5161988a"
      },
      "execution_count": 108,
      "outputs": [
        {
          "output_type": "display_data",
          "data": {
            "text/plain": [
              "<Figure size 1200x700 with 1 Axes>"
            ],
            "image/png": "[encoded data removed]"
          },
          "metadata": {}
        }
      ]
    },
    {
      "cell_type": "markdown",
      "source": [
        "### **KMeans clustering**"
      ],
      "metadata": {
        "id": "4BZi84XspgbR"
      }
    },
    {
      "cell_type": "code",
      "source": [
        "model=KMeans(n_clusters=3)\n",
        "model.fit_predict(scaled_features)"
      ],
      "metadata": {
        "colab": {
          "base_uri": "https://localhost:8080/"
        },
        "id": "B_bT5DoMnT4k",
        "outputId": "4454ec89-7b19-4adc-f720-201b8e87c7d7"
      },
      "execution_count": 109,
      "outputs": [
        {
          "output_type": "execute_result",
          "data": {
            "text/plain": [
              "array([0, 0, 0, ..., 1, 0, 0], dtype=int32)"
            ]
          },
          "metadata": {},
          "execution_count": 109
        }
      ]
    },
    {
      "cell_type": "code",
      "source": [
        "model.cluster_centers_"
      ],
      "metadata": {
        "colab": {
          "base_uri": "https://localhost:8080/"
        },
        "id": "WOjQOolepkPy",
        "outputId": "04ff69e0-b1a2-464c-f02d-1c6b9b6ef068"
      },
      "execution_count": 110,
      "outputs": [
        {
          "output_type": "execute_result",
          "data": {
            "text/plain": [
              "array([[ 2.37681325e-02,  8.07125209e-03,  2.24748810e-02,\n",
              "         8.98995241e-03,  1.05764146e-03,  1.25750315e-02,\n",
              "         7.51540344e-02,  7.35667765e-03,  1.24322760e-02,\n",
              "         4.34424062e-01,  8.32667268e-16],\n",
              "       [ 5.69280197e-02,  2.15461508e-02,  4.15428764e-01,\n",
              "         7.76502363e-03,  4.55773126e-03,  1.09621005e-01,\n",
              "         1.83518364e-01,  2.78255837e-02,  4.90489598e-02,\n",
              "         5.57398375e-01,  1.00000000e+00],\n",
              "       [ 6.92010150e-02,  7.21537510e-03,  6.40350877e-01,\n",
              "         7.97448166e-04,  5.58213716e-03,  1.17843075e-01,\n",
              "         2.00289307e-01,  7.30214826e-03,  1.19466763e-02,\n",
              "         5.38787863e-01, -1.11022302e-16]])"
            ]
          },
          "metadata": {},
          "execution_count": 110
        }
      ]
    },
    {
      "cell_type": "markdown",
      "source": [
        " **DBSCAN clustering** --is not possible beause there are more than 2 features"
      ],
      "metadata": {
        "id": "sk5wQOxtps4-"
      }
    },
    {
      "cell_type": "markdown",
      "source": [
        "**Evaluation**"
      ],
      "metadata": {
        "id": "dDWiww6Qpwke"
      }
    },
    {
      "cell_type": "markdown",
      "source": [
        "###**Elbow Method for KMeans clustering**"
      ],
      "metadata": {
        "id": "iD82EskxpwtE"
      }
    },
    {
      "cell_type": "code",
      "source": [
        "l=[]\n",
        "for i in range(1,11):\n",
        "  model=KMeans(n_clusters=i)\n",
        "  model.fit(scaled_features)\n",
        "  l.append(model.inertia_)\n",
        "\n",
        "l"
      ],
      "metadata": {
        "colab": {
          "base_uri": "https://localhost:8080/"
        },
        "id": "4QWTt43MpojA",
        "outputId": "f9c8f174-eff8-4df6-dc4e-e283919034ec"
      },
      "execution_count": 111,
      "outputs": [
        {
          "output_type": "execute_result",
          "data": {
            "text/plain": [
              "[1830.793212858411,\n",
              " 823.6756984125209,\n",
              " 625.1684881570724,\n",
              " 436.70885761932567,\n",
              " 348.9433217254141,\n",
              " 315.15154060074076,\n",
              " 287.8767128230097,\n",
              " 263.2132188914902,\n",
              " 243.9269859335836,\n",
              " 226.1181903872348]"
            ]
          },
          "metadata": {},
          "execution_count": 111
        }
      ]
    },
    {
      "cell_type": "code",
      "source": [
        "plt.figure(figsize=(8,4))\n",
        "plt.style.use('seaborn-darkgrid')\n",
        "plt.scatter(range(1,11),l,s=50,color='black')\n",
        "plt.plot(range(1,11),l,color='red',linestyle='-.')\n",
        "plt.xticks(range(1,11))\n",
        "plt.show();"
      ],
      "metadata": {
        "colab": {
          "base_uri": "https://localhost:8080/",
          "height": 363
        },
        "id": "7au1rU9Cp3nW",
        "outputId": "019fd160-ffe8-4253-f111-fe6ec46dc5cd"
      },
      "execution_count": 112,
      "outputs": [
        {
          "output_type": "display_data",
          "data": {
            "text/plain": [
              "<Figure size 800x400 with 1 Axes>"
            ],
            "image/png": "[encoded data removed]"
          },
          "metadata": {}
        }
      ]
    },
    {
      "cell_type": "markdown",
      "source": [
        "Elbow point is at 2 ,Therefore there should be 2 clusters."
      ],
      "metadata": {
        "id": "6KydxaRs4JvX"
      }
    },
    {
      "cell_type": "markdown",
      "source": [
        "###**Silhouette Method for all clustering techniques**"
      ],
      "metadata": {
        "id": "cz7OG4f_qDUv"
      }
    },
    {
      "cell_type": "code",
      "source": [
        "from sklearn.metrics import silhouette_score"
      ],
      "metadata": {
        "id": "q4o4Qfx7qCHW"
      },
      "execution_count": 113,
      "outputs": []
    },
    {
      "cell_type": "code",
      "source": [
        "#for KMean clustering technique\n",
        "\n",
        "nc=range(2,11)\n",
        "l=[]\n",
        "for i in nc:\n",
        "  model=KMeans(n_clusters=i)\n",
        "  #model.fit_predict(scaled_fearures)\n",
        "  l.append(silhouette_score(scaled_features,model.fit_predict(scaled_features)))\n",
        "\n",
        "\n",
        "\n",
        "#plotting\n",
        "plt.figure(figsize=(8,4))\n",
        "plt.style.use('seaborn-darkgrid')\n",
        "plt.scatter(nc,l,s=50,color='black')\n",
        "plt.plot(nc,l,color='red',linestyle='-.')\n",
        "plt.xticks(range(1,11))\n",
        "plt.show();\n",
        "\n",
        "\n",
        "l"
      ],
      "metadata": {
        "colab": {
          "base_uri": "https://localhost:8080/",
          "height": 519
        },
        "id": "EPpleuB3qHpP",
        "outputId": "bce10871-e0b7-4f2d-930d-b7fdb8eb9b93"
      },
      "execution_count": 114,
      "outputs": [
        {
          "output_type": "display_data",
          "data": {
            "text/plain": [
              "<Figure size 800x400 with 1 Axes>"
            ],
            "image/png": "[encoded data removed]"
          },
          "metadata": {}
        },
        {
          "output_type": "execute_result",
          "data": {
            "text/plain": [
              "[0.535930510919477,\n",
              " 0.4646127065079619,\n",
              " 0.47483765255961,\n",
              " 0.4430672072796034,\n",
              " 0.4035297332431931,\n",
              " 0.3909558220728864,\n",
              " 0.3810208306533197,\n",
              " 0.3418303761849813,\n",
              " 0.3452190749987779]"
            ]
          },
          "metadata": {},
          "execution_count": 114
        }
      ]
    },
    {
      "cell_type": "code",
      "source": [
        "# printing highest Silhouette score for the respective technique\n",
        "print(max(l),'for',nc[l.index(max(l))],\"clusters\")"
      ],
      "metadata": {
        "colab": {
          "base_uri": "https://localhost:8080/"
        },
        "id": "KzWGipwN-30r",
        "outputId": "49441de7-2ecf-4b81-b399-82b97f37d0a5"
      },
      "execution_count": 115,
      "outputs": [
        {
          "output_type": "stream",
          "name": "stdout",
          "text": [
            "0.535930510919477 for 2 clusters\n"
          ]
        }
      ]
    },
    {
      "cell_type": "code",
      "source": [
        "#for hierarchical clustering technique with affinity='l1'and linkage='single'\n",
        "\n",
        "nc=range(2,11)\n",
        "l=[]\n",
        "for i in nc:\n",
        "  model=AgglomerativeClustering(n_clusters=i,affinity='l1',linkage='single')\n",
        "  l.append(silhouette_score(scaled_features,model.fit_predict(scaled_features)))\n",
        "\n",
        "\n",
        "#plotting\n",
        "plt.figure(figsize=(8,4))\n",
        "plt.style.use('seaborn-darkgrid')\n",
        "plt.scatter(nc,l,s=50,color='black')\n",
        "plt.plot(nc,l,color='red',linestyle='-.')\n",
        "plt.xticks(range(1,11))\n",
        "plt.show();\n",
        "\n",
        "\n",
        "l"
      ],
      "metadata": {
        "colab": {
          "base_uri": "https://localhost:8080/",
          "height": 519
        },
        "id": "2Aa-kXphqLXL",
        "outputId": "6fce6a45-f27b-48c1-bd96-2978bd8f15cc"
      },
      "execution_count": 116,
      "outputs": [
        {
          "output_type": "display_data",
          "data": {
            "text/plain": [
              "<Figure size 800x400 with 1 Axes>"
            ],
            "image/png": "[encoded data removed]"
          },
          "metadata": {}
        },
        {
          "output_type": "execute_result",
          "data": {
            "text/plain": [
              "[0.5460574674055123,\n",
              " 0.4404056635334302,\n",
              " 0.5268941425720746,\n",
              " 0.5221752413547429,\n",
              " 0.4549821830518893,\n",
              " 0.4160803855658161,\n",
              " 0.4152529462975249,\n",
              " 0.38677638239588863,\n",
              " 0.3863635929394707]"
            ]
          },
          "metadata": {},
          "execution_count": 116
        }
      ]
    },
    {
      "cell_type": "code",
      "source": [
        "# printing highest Silhouette score for the respective technique\n",
        "print(max(l),'for',nc[l.index(max(l))],\"clusters\")"
      ],
      "metadata": {
        "colab": {
          "base_uri": "https://localhost:8080/"
        },
        "id": "JBjVuWgU_Eeh",
        "outputId": "9fd0285f-74f0-4f0c-ea80-56aeeddae75b"
      },
      "execution_count": 117,
      "outputs": [
        {
          "output_type": "stream",
          "name": "stdout",
          "text": [
            "0.5460574674055123 for 2 clusters\n"
          ]
        }
      ]
    },
    {
      "cell_type": "code",
      "source": [
        "#for hierarchical clustering technique with affinity='l1'and linkage='average'\n",
        "\n",
        "nc=range(2,11)\n",
        "l=[]\n",
        "for i in nc:\n",
        "  model=AgglomerativeClustering(n_clusters=i,affinity='l1',linkage='average')\n",
        "  l.append(silhouette_score(scaled_features,model.fit_predict(scaled_features)))\n",
        "\n",
        "\n",
        "#plotting\n",
        "plt.figure(figsize=(8,4))\n",
        "plt.style.use('seaborn-darkgrid')\n",
        "plt.scatter(nc,l,s=50,color='black')\n",
        "plt.plot(nc,l,color='red',linestyle='-.')\n",
        "plt.xticks(range(1,11))\n",
        "plt.show();\n",
        "\n",
        "\n",
        "l"
      ],
      "metadata": {
        "colab": {
          "base_uri": "https://localhost:8080/",
          "height": 519
        },
        "id": "mwFxB4S_qy9p",
        "outputId": "2e86b489-f828-4e19-9bd4-1a5e836266e9"
      },
      "execution_count": 118,
      "outputs": [
        {
          "output_type": "display_data",
          "data": {
            "text/plain": [
              "<Figure size 800x400 with 1 Axes>"
            ],
            "image/png": "[encoded data removed]"
          },
          "metadata": {}
        },
        {
          "output_type": "execute_result",
          "data": {
            "text/plain": [
              "[0.45418920710462085,\n",
              " 0.3323917935404542,\n",
              " 0.31852848618488866,\n",
              " 0.27594827838415237,\n",
              " 0.2686786424552447,\n",
              " 0.14529921812056693,\n",
              " 0.13354014692025812,\n",
              " 0.4061606621782466,\n",
              " 0.38819381324443597]"
            ]
          },
          "metadata": {},
          "execution_count": 118
        }
      ]
    },
    {
      "cell_type": "code",
      "source": [
        "# printing highest Silhouette score for the respective technique\n",
        "print(max(l),'for',nc[l.index(max(l))],\"clusters\")"
      ],
      "metadata": {
        "colab": {
          "base_uri": "https://localhost:8080/"
        },
        "id": "tpeaIi2g8l1C",
        "outputId": "ac6376d7-874e-49eb-e8db-052f58f89398"
      },
      "execution_count": 119,
      "outputs": [
        {
          "output_type": "stream",
          "name": "stdout",
          "text": [
            "0.45418920710462085 for 2 clusters\n"
          ]
        }
      ]
    },
    {
      "cell_type": "code",
      "source": [
        "#for hierarchical clustering technique with affinity='l1'and linkage='complete'\n",
        "\n",
        "nc=range(2,11)\n",
        "l=[]\n",
        "for i in nc:\n",
        "  model=AgglomerativeClustering(n_clusters=i,affinity='l1',linkage='complete')\n",
        "  l.append(silhouette_score(scaled_features,model.fit_predict(scaled_features)))\n",
        "\n",
        "\n",
        "#plotting\n",
        "plt.figure(figsize=(8,4))\n",
        "plt.style.use('seaborn-darkgrid')\n",
        "plt.scatter(nc,l,s=50,color='black')\n",
        "plt.plot(nc,l,color='red',linestyle='-.')\n",
        "plt.xticks(range(1,11))\n",
        "plt.show();\n",
        "\n",
        "\n",
        "l"
      ],
      "metadata": {
        "colab": {
          "base_uri": "https://localhost:8080/",
          "height": 519
        },
        "id": "iELRdznUrNtN",
        "outputId": "c0d948f1-89d4-449d-be12-4c45eee81b81"
      },
      "execution_count": 120,
      "outputs": [
        {
          "output_type": "display_data",
          "data": {
            "text/plain": [
              "<Figure size 800x400 with 1 Axes>"
            ],
            "image/png": "[encoded data removed]"
          },
          "metadata": {}
        },
        {
          "output_type": "execute_result",
          "data": {
            "text/plain": [
              "[0.47040913679492186,\n",
              " 0.5322330314764526,\n",
              " 0.526488118545087,\n",
              " 0.4894363304545697,\n",
              " 0.46231895316690685,\n",
              " 0.4587458835672447,\n",
              " 0.4145108628963961,\n",
              " 0.4153908197416106,\n",
              " 0.39558643037377633]"
            ]
          },
          "metadata": {},
          "execution_count": 120
        }
      ]
    },
    {
      "cell_type": "code",
      "source": [
        "# printing highest Silhouette score for the respective technique\n",
        "print(max(l),'for',nc[l.index(max(l))],\"clusters\")"
      ],
      "metadata": {
        "colab": {
          "base_uri": "https://localhost:8080/"
        },
        "id": "6xYaPjsJ_jUs",
        "outputId": "8b5c3032-0303-4a42-9821-57089e57614f"
      },
      "execution_count": 121,
      "outputs": [
        {
          "output_type": "stream",
          "name": "stdout",
          "text": [
            "0.5322330314764526 for 3 clusters\n"
          ]
        }
      ]
    },
    {
      "cell_type": "code",
      "source": [
        "#for hierarchical clustering technique with affinity='l2'and linkage='single'\n",
        "\n",
        "nc=range(2,11)\n",
        "l=[]\n",
        "for i in nc:\n",
        "  model=AgglomerativeClustering(n_clusters=i,affinity='l2',linkage='single')\n",
        "  l.append(silhouette_score(scaled_features,model.fit_predict(scaled_features)))\n",
        "\n",
        "\n",
        "#plotting\n",
        "plt.figure(figsize=(8,4))\n",
        "plt.style.use('seaborn-darkgrid')\n",
        "plt.scatter(nc,l,s=50,color='black')\n",
        "plt.plot(nc,l,color='red',linestyle='-.')\n",
        "plt.xticks(range(1,11))\n",
        "plt.show();\n",
        "\n",
        "\n",
        "\n",
        "\n",
        "# printing highest Silhouette score for the respective technique\n",
        "print(max(l),'for',nc[l.index(max(l))],\"clusters\")\n",
        "\n",
        "l"
      ],
      "metadata": {
        "colab": {
          "base_uri": "https://localhost:8080/",
          "height": 537
        },
        "id": "cYWDBU3erSD_",
        "outputId": "aa8e89ca-08b8-463b-d37b-3f5cf0e44143"
      },
      "execution_count": 122,
      "outputs": [
        {
          "output_type": "display_data",
          "data": {
            "text/plain": [
              "<Figure size 800x400 with 1 Axes>"
            ],
            "image/png": "[encoded data removed]"
          },
          "metadata": {}
        },
        {
          "output_type": "stream",
          "name": "stdout",
          "text": [
            "0.535930510919477 for 2 clusters\n"
          ]
        },
        {
          "output_type": "execute_result",
          "data": {
            "text/plain": [
              "[0.535930510919477,\n",
              " 0.5351606918177734,\n",
              " 0.48129679558120275,\n",
              " 0.48005487141025094,\n",
              " 0.4327930185753205,\n",
              " 0.4313535297638312,\n",
              " 0.39132817868911945,\n",
              " 0.39065115753519675,\n",
              " 0.39161410759857124]"
            ]
          },
          "metadata": {},
          "execution_count": 122
        }
      ]
    },
    {
      "cell_type": "code",
      "source": [
        "#for hierarchical clustering technique with affinity='l2'and linkage='average'\n",
        "\n",
        "nc=range(2,11)\n",
        "l=[]\n",
        "for i in nc:\n",
        "  model=AgglomerativeClustering(n_clusters=i,affinity='l2',linkage='average')\n",
        "  l.append(silhouette_score(scaled_features,model.fit_predict(scaled_features)))\n",
        "\n",
        "\n",
        "#plotting\n",
        "plt.figure(figsize=(8,4))\n",
        "plt.style.use('seaborn-darkgrid')\n",
        "plt.scatter(nc,l,s=50,color='black')\n",
        "plt.plot(nc,l,color='red',linestyle='-.')\n",
        "plt.xticks(range(1,11))\n",
        "plt.show();\n",
        "\n",
        "\n",
        "\n",
        "# printing highest Silhouette score for the respective technique\n",
        "print(max(l),'for',nc[l.index(max(l))],\"clusters\")\n",
        "\n",
        "l"
      ],
      "metadata": {
        "colab": {
          "base_uri": "https://localhost:8080/"
        },
        "id": "iTUnZqb7rYil",
        "outputId": "8816f7e4-17a6-4c29-d382-e90cf3598103"
      },
      "execution_count": 123,
      "outputs": [
        {
          "output_type": "stream",
          "name": "stdout",
          "text": [
            "0.5286018409871408 for 4 clusters\n"
          ]
        },
        {
          "output_type": "execute_result",
          "data": {
            "text/plain": [
              "[0.47040913679492186,\n",
              " 0.39619766243707655,\n",
              " 0.5286018409871408,\n",
              " 0.5082555071160846,\n",
              " 0.4872677894382957,\n",
              " 0.43873250506611094,\n",
              " 0.4087022964575043,\n",
              " 0.40082699430237484,\n",
              " 0.35722100020389563]"
            ]
          },
          "metadata": {},
          "execution_count": 123
        }
      ]
    },
    {
      "cell_type": "code",
      "source": [
        "#for hierarchical clustering technique with affinity='l2'and linkage='complete'\n",
        "\n",
        "nc=range(2,11)\n",
        "l=[]\n",
        "for i in nc:\n",
        "  model=AgglomerativeClustering(n_clusters=i,affinity='l2',linkage='complete')\n",
        "  l.append(silhouette_score(scaled_features,model.fit_predict(scaled_features)))\n",
        "\n",
        "\n",
        "#plotting\n",
        "plt.figure(figsize=(8,4))\n",
        "plt.style.use('seaborn-darkgrid')\n",
        "plt.scatter(nc,l,s=50,color='black')\n",
        "plt.plot(nc,l,color='red',linestyle='-.')\n",
        "plt.xticks(range(1,11))\n",
        "plt.show();\n",
        "\n",
        "\n",
        "# printing highest Silhouette score for the respective technique\n",
        "print(max(l),'for',nc[l.index(max(l))],\"clusters\")\n",
        "\n",
        "l"
      ],
      "metadata": {
        "colab": {
          "base_uri": "https://localhost:8080/",
          "height": 537
        },
        "id": "sgpjUGz1rdsr",
        "outputId": "5ad52020-1a1a-4c8d-a2bc-18f0b46e4bf7"
      },
      "execution_count": 124,
      "outputs": [
        {
          "output_type": "display_data",
          "data": {
            "text/plain": [
              "<Figure size 800x400 with 1 Axes>"
            ],
            "image/png": "[encoded data removed]"
          },
          "metadata": {}
        },
        {
          "output_type": "stream",
          "name": "stdout",
          "text": [
            "0.5318787367232326 for 3 clusters\n"
          ]
        },
        {
          "output_type": "execute_result",
          "data": {
            "text/plain": [
              "[0.47040913679492186,\n",
              " 0.5318787367232326,\n",
              " 0.46459708515197673,\n",
              " 0.4167248248554338,\n",
              " 0.4172318835123988,\n",
              " 0.4161868994032843,\n",
              " 0.39120686651419934,\n",
              " 0.35190300606505326,\n",
              " 0.3522324604386131]"
            ]
          },
          "metadata": {},
          "execution_count": 124
        }
      ]
    },
    {
      "cell_type": "markdown",
      "source": [
        " **Silhouette score** :Silhouette Coefficient or silhouette score is a metric used to calculate the goodness of a clustering technique. Its value ranges from -1 to 1.Silhouette score is higher the better.<br>\n",
        "\n",
        "\n",
        "---\n",
        "\n",
        "\n",
        "We calculated silhouette score for different clustering techniques<br>\n",
        "\n",
        "Representing highest Silhouette score for each technique:<br>\n",
        "1. For KMean clustering technique:\n",
        "> 0.535930510919477  for 2 clusters\n",
        "\n",
        "2. For hierarchical clustering technique with affinity='l1'and linkage='single'  \n",
        "> 0.5460574674055123 for 2 clusters\n",
        "\n",
        "3. For hierarchical clustering technique with affinity='l1'and linkage='average'\n",
        "> 0.45418920710462085 for 2 clusters\n",
        "\n",
        "4. For hierarchical clustering technique with affinity='l1'and linkage='complete'\n",
        "> 0.5322330314764526 for 3 clusters\n",
        "\n",
        "5. For hierarchical clustering technique with affinity='l2'and linkage='single'\n",
        "> 0.535930510919477 for 2 clusters\n",
        "\n",
        "6. For hierarchical clustering technique with affinity='l2'and linkage='average'\n",
        "> 0.5286018409871408 for 4 clusters\n",
        "\n",
        "7. For hierarchical clustering technique with affinity='l2'and linkage='complete'\n",
        "> 0.5318787367232326 for 3 clusters\n",
        "\n",
        "\n",
        "\n",
        "\n",
        "*   We will avoid using 'single' as  linkage because it mainly focus on the structure\n"
      ],
      "metadata": {
        "id": "CWB4CUvg4zVO"
      }
    },
    {
      "cell_type": "markdown",
      "source": [
        "**Elbow Method** : In cluster analysis, the elbow method is a heuristic used in determining the number of clusters in a data set. The method consists of plotting the explained variation as a function of the number of clusters and picking the elbow of the curve as the number of clusters to use.\n",
        "\n",
        "---\n",
        "\n",
        "\n",
        "> By Elbow Method for Kmeans clustering we got that there shold be 2 clusters."
      ],
      "metadata": {
        "id": "qu8gMccYKNYU"
      }
    },
    {
      "cell_type": "markdown",
      "source": [
        "We will go with\n",
        "\n",
        "1. Silhouette score for KMean clustering technique:\n",
        "> 0.535930510919477  for 2 clusters\n",
        "\n",
        "\n",
        "**We will go ahed with 2 clusters**"
      ],
      "metadata": {
        "id": "MU6hPT0XBmGD"
      }
    },
    {
      "cell_type": "code",
      "source": [],
      "metadata": {
        "id": "8gGLOYqu5JAI"
      },
      "execution_count": 124,
      "outputs": []
    }
  ]
}
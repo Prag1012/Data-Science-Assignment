{
  "nbformat": 4,
  "nbformat_minor": 0,
  "metadata": {
    "colab": {
      "provenance": []
    },
    "kernelspec": {
      "name": "python3",
      "display_name": "Python 3"
    },
    "language_info": {
      "name": "python"
    }
  },
  "cells": [
    {
      "cell_type": "code",
      "execution_count": 1,
      "metadata": {
        "id": "zpUPl-jfAzEy"
      },
      "outputs": [],
      "source": [
        "import pandas as pd\n",
        "import numpy as np\n",
        "import matplotlib.pyplot as plt\n",
        "import scipy.stats as stats\n",
        "import seaborn as sns\n",
        "import statsmodels.api as smf\n",
        "import warnings\n",
        "warnings.filterwarnings('ignore')"
      ]
    },
    {
      "cell_type": "markdown",
      "source": [
        "#Question 3\n"
      ],
      "metadata": {
        "id": "faues2JjBUpS"
      }
    },
    {
      "cell_type": "markdown",
      "source": [
        "Auditors at a small community bank randomly sample 100 withdrawal transactions made during the week at an ATM machine located near the bank’s main branch. Over the past 2 years, the average withdrawal amount has been 50 USD with a standard deviation of 40 USD. Since audit investigations are typically expensive, the auditors decide to not initiate further investigations if the mean transaction amount of the sample is between 45 USD and 55 USD. What is the probability that in any given week, there will be an investigation?"
      ],
      "metadata": {
        "id": "leTP4nX6BZaF"
      }
    },
    {
      "cell_type": "code",
      "source": [
        "import numpy as np\n",
        "from scipy import stats\n",
        "\n",
        "mean = 50\n",
        "std = 40\n",
        "n = 100\n",
        "d_f = 100 - 1  # degree of freedom\n",
        "\n",
        "# Calculate standard error\n",
        "se = std / np.sqrt(n)\n",
        "\n",
        "# Calculate t-value for a 95% confidence interval\n",
        "t_value = stats.t.ppf(0.975, df=d_f)  # 0.975 for a two-tailed test\n",
        "\n",
        "# Calculate margin of error\n",
        "margin_of_error = t_value * se\n",
        "\n",
        "# Calculate confidence interval\n",
        "confidence_interval = (mean - margin_of_error, mean + margin_of_error)\n",
        "\n",
        "print('The probability that in any given week, there will be an investigation is', np.round((1 - prob) * 100, 1), '%')\n",
        "print('Confidence Interval:', np.round(confidence_interval, 2))\n"
      ],
      "metadata": {
        "colab": {
          "base_uri": "https://localhost:8080/"
        },
        "id": "81JqJk11CY1U",
        "outputId": "56daa347-06da-49af-c9b6-57975dead08d"
      },
      "execution_count": 5,
      "outputs": [
        {
          "output_type": "stream",
          "name": "stdout",
          "text": [
            "The probability that in any given week, there will be an investigation is 21.4 %\n",
            "Confidence Interval: [42.06 57.94]\n"
          ]
        }
      ]
    },
    {
      "cell_type": "markdown",
      "source": [
        "#Question 4\n"
      ],
      "metadata": {
        "id": "g0rVJoahC0NU"
      }
    },
    {
      "cell_type": "markdown",
      "source": [
        "The auditors from the above example would like to maintain the probability of investigation to 5%. Which of the following represents the minimum number transactions that they should sample if they do not want to change the thresholds of 45 and 55? Assume that the sample statistics remain unchanged."
      ],
      "metadata": {
        "id": "O8lyLtxnC8VF"
      }
    },
    {
      "cell_type": "code",
      "source": [
        "import numpy as np\n",
        "from scipy import stats\n",
        "\n",
        "x_bar = 45\n",
        "s_std = 40\n",
        "mew = 50\n",
        "\n",
        "t = np.round(stats.t.ppf(0.025, df=249), 2)\n",
        "\n",
        "# Calculate sample size\n",
        "n = ((s_std * abs(t)) / 5)**2\n",
        "\n",
        "print('The Auditors would like to maintain the probability of investigation to 5%, they should sample', np.round(n), 'transactions if they do not want to change the thresholds of 45 to 55')\n",
        "\n",
        "df = n - 1\n",
        "print(n, df)\n",
        "\n",
        "# Calculate the confidence interval\n",
        "confidence_interval = stats.t.interval(0.95, df=df, loc=mew, scale=s_std / np.sqrt(n))\n",
        "\n",
        "print('Confidence Interval:', np.round(confidence_interval, 2))\n"
      ],
      "metadata": {
        "colab": {
          "base_uri": "https://localhost:8080/"
        },
        "id": "ATEDpQQoD0WB",
        "outputId": "8b66524c-a662-47f4-eb8a-2f5cf58562be"
      },
      "execution_count": 10,
      "outputs": [
        {
          "output_type": "stream",
          "name": "stdout",
          "text": [
            "The Auditors would like to maintain the probability of investigation to 5%, they should sample 248.0 transactions if they do not want to change the thresholds of 45 to 55\n",
            "248.3776 247.3776\n",
            "Confidence Interval: [45. 55.]\n"
          ]
        }
      ]
    },
    {
      "cell_type": "code",
      "source": [],
      "metadata": {
        "id": "RnkqC83PEKqp"
      },
      "execution_count": null,
      "outputs": []
    }
  ]
}
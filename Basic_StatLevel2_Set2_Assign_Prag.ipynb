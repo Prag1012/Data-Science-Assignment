{
  "nbformat": 4,
  "nbformat_minor": 0,
  "metadata": {
    "colab": {
      "provenance": []
    },
    "kernelspec": {
      "name": "python3",
      "display_name": "Python 3"
    },
    "language_info": {
      "name": "python"
    }
  },
  "cells": [
    {
      "cell_type": "code",
      "execution_count": 1,
      "metadata": {
        "id": "t5Lxugbt7mvw"
      },
      "outputs": [],
      "source": [
        "import pandas as pd\n",
        "import numpy as np\n",
        "import matplotlib.pyplot as plt\n",
        "import scipy.stats as stats\n",
        "import seaborn as sns\n",
        "import statsmodels.api as smf\n",
        "import warnings\n",
        "warnings.filterwarnings('ignore')\n"
      ]
    },
    {
      "cell_type": "markdown",
      "source": [
        "#Question 1\n"
      ],
      "metadata": {
        "id": "E9XSPCUs84Zj"
      }
    },
    {
      "cell_type": "code",
      "source": [
        "\"\"\"the serving work will began after 10 min of drop off so 45+10\n",
        "which will now take more than the usual time so new mew is 55 minutes\n",
        "and the porbbaility that it will take more than 1 hour to complete\"\"\"\n",
        "mew = 55\n",
        "std = 8\n",
        "q1 = stats.norm.sf(60, loc = mew, scale = std)\n",
        "print(\"\"\"The probability that the service manager cannot meet his\n",
        "      commitment is\"\"\",np.round(q1,5))\n"
      ],
      "metadata": {
        "colab": {
          "base_uri": "https://localhost:8080/"
        },
        "id": "v1BgTq3q82Et",
        "outputId": "04a28a94-2f90-4075-8232-9b74b411d9c0"
      },
      "execution_count": 2,
      "outputs": [
        {
          "output_type": "stream",
          "name": "stdout",
          "text": [
            "The probability that the service manager cannot meet his \n",
            "      commitment is 0.26599\n"
          ]
        }
      ]
    },
    {
      "cell_type": "markdown",
      "source": [
        "#Question 2\n"
      ],
      "metadata": {
        "id": "hM0-4McH9AIo"
      }
    },
    {
      "cell_type": "code",
      "source": [
        "mean = 38\n",
        "std1 = 6\n",
        "q2_lessthan_38 = stats.norm.cdf(38, loc = mean, scale = std1)\n",
        "\n",
        "\n",
        "q2_less_than_44 = stats.norm.cdf(44, loc = mean,  scale = std1)\n",
        "\n",
        "\n",
        "q2_betweeen_38_and_44 = (q2_less_than_44 - q2_lessthan_38)\n",
        "print('The probability of employee age betweeen 38 and 44 is',np.round(q2_betweeen_38_and_44*100,2),'%')\n",
        "\n",
        "q2_morethan_44 = 1-stats.norm.cdf(44, loc = mean, scale = std1)\n",
        "print('The probability of employee age more than 44 is',np.round(q2_morethan_44*100,2),'%')\n",
        "\n",
        "true_or_false = (q2_morethan_44 > q2_betweeen_38_and_44)\n",
        "print('Answer:',true_or_false)\n",
        "\n",
        "q2b = stats.norm.cdf(30, loc = mean, scale = std1)\n",
        "print(\"\"\"A training program for employees under the age of 30 at the center would be expected to attract about\"\"\"\n",
        "      ,np.round((q2b*400),0),'employees')\n"
      ],
      "metadata": {
        "colab": {
          "base_uri": "https://localhost:8080/"
        },
        "id": "tFLEGFzW87_2",
        "outputId": "00278b75-1034-45ec-a233-1751ad48c425"
      },
      "execution_count": 3,
      "outputs": [
        {
          "output_type": "stream",
          "name": "stdout",
          "text": [
            "The probability of employee age betweeen 38 and 44 is 34.13 %\n",
            "The probability of employee age more than 44 is 15.87 %\n",
            "Answer: False\n",
            "A training program for employees under the age of 30 at the center would be expected to attract about 36.0 employees\n"
          ]
        }
      ]
    },
    {
      "cell_type": "markdown",
      "source": [
        "# Question 4\n",
        "Let X ~ N(100, 202). Find two values, a and b, symmetric about the mean, such that the probability of the random variable taking a value between them is 0.99.\n",
        "\n",
        "A.90.5, 105.9\n",
        "B.80.2, 119.8\n",
        "C.22, 78\n",
        "D.48.5, 151.5\n",
        "E.90.1, 109.9"
      ],
      "metadata": {
        "id": "0ItV6mPk-8EC"
      }
    },
    {
      "cell_type": "code",
      "source": [
        "# Given\n",
        "mew = 100\n",
        "std = 20\n",
        "# p(a<x<b)\n",
        "#To Find =\n",
        "\"\"\" two values, a and b, symmetric about the mean, such that the\n",
        "probability of the random variable taking a value between them is 0.99\"\"\"\n",
        "# Solution\n",
        "\"\"\" From the above details,we have to exclude .005% area from each\n",
        "left and right tails. Hence, we want to find the .005th and the\n",
        ".995th percentiles Z score values\"\"\"\n",
        "\n",
        "# Z value for .005 percentiles\n",
        "z_005_ = np.round(stats.norm.ppf(0.005),4)\n",
        "z_005_\n",
        "\n",
        "# Z value for .99 percentiles\n",
        "z_99_ = np.round(stats.norm.ppf(0.995),4)\n",
        "z_99_\n",
        "\n",
        "#z = (x_bar - mew) / std\n",
        "#x_bar = (z*std) + mew\n",
        "a = np.round((z_005_*std) + mew,1)\n",
        "b = np.round((z_99_*std) + mew,1)\n",
        "print(\"\"\"The two values of a and b, symmetric about the mean,\n",
        "      are such that the probability of the random variable\n",
        "      taking a value between them is 0.99:\"\"\",a,b)"
      ],
      "metadata": {
        "colab": {
          "base_uri": "https://localhost:8080/"
        },
        "id": "LYz0CzMc-4tJ",
        "outputId": "1286b94e-90c1-45ce-9e05-b2584ee39ffc"
      },
      "execution_count": 4,
      "outputs": [
        {
          "output_type": "stream",
          "name": "stdout",
          "text": [
            "The two values of a and b, symmetric about the mean, \n",
            "      are such that the probability of the random variable \n",
            "      taking a value between them is 0.99: 48.5 151.5\n"
          ]
        }
      ]
    },
    {
      "cell_type": "code",
      "source": [
        "#simple way\n",
        "print(\"\"\"The two values of a and b, symmetric about the mean,\n",
        "      are such that the probability of the random variable\n",
        "      taking a value between them is 0.99:\"\"\",np.round(stats.norm.interval(0.99, loc = 100, scale = 20),1))"
      ],
      "metadata": {
        "colab": {
          "base_uri": "https://localhost:8080/"
        },
        "id": "-sNQZ1gJ_F_2",
        "outputId": "eb508dc6-184c-4b9e-f43f-cb2cd6ab98ac"
      },
      "execution_count": 5,
      "outputs": [
        {
          "output_type": "stream",
          "name": "stdout",
          "text": [
            "The two values of a and b, symmetric about the mean, \n",
            "      are such that the probability of the random variable \n",
            "      taking a value between them is 0.99: [ 48.5 151.5]\n"
          ]
        }
      ]
    },
    {
      "cell_type": "markdown",
      "source": [
        "#Question 5\n",
        "5.Consider a company that has two different divisions. The annual profits from the two divisions are independent and have distributions Profit1 ~ N(5, 32) and Profit2 ~ N(7, 42) respectively. Both the profits are in USD Million. Answer the following questions about the total profit of the company in Rupees. Assume that 1USD = Rs. 45"
      ],
      "metadata": {
        "id": "ebGUEg3d_WnD"
      }
    },
    {
      "cell_type": "code",
      "source": [
        "# Combine Mean Profit of both division for Company= mean1 + mean2\n",
        "mean1 = 5\n",
        "mean2 = 7\n",
        "Mean = (mean1+mean2) # 1 USD = 45 rupees\n",
        "print('The Mean Profit of both division:',Mean, 'Million$')\n",
        "print('The Mean Profit of both division:',(Mean*45)/10, 'Crore Rupees')\n",
        "\n",
        "# Combine standard Deviation = (Std1^2 + Std2^2)^1/2\n",
        "std1 = 3**2\n",
        "std2 = 4**2\n",
        "Std = np.sqrt(std1 + std2)\n",
        "print('The Standard Deviation of both division:', Std, 'Million$')\n",
        "print('The Standard Deviation of both division:', (Std*45)/10, 'Crore Rupees')\n"
      ],
      "metadata": {
        "colab": {
          "base_uri": "https://localhost:8080/"
        },
        "id": "7pcmwPs9_MhT",
        "outputId": "f95f9568-76b3-4f40-fb1e-4940ffc9f032"
      },
      "execution_count": 6,
      "outputs": [
        {
          "output_type": "stream",
          "name": "stdout",
          "text": [
            "The Mean Profit of both division: 12 Million$\n",
            "The Mean Profit of both division: 54.0 Crore Rupees\n",
            "The Standard Deviation of both division: 5.0 Million$\n",
            "The Standard Deviation of both division: 22.5 Crore Rupees\n"
          ]
        }
      ]
    },
    {
      "cell_type": "markdown",
      "source": [
        "A. Specify a Rupee range (centered on the mean) such that it contains 95% probability for the annual profit of the company"
      ],
      "metadata": {
        "id": "xKQ-GsIE_weg"
      }
    },
    {
      "cell_type": "code",
      "source": [
        "r1, r2 = np.round(stats.norm.interval(0.95, Mean, Std),2)\n",
        "print('Rupee Ranges from',r1,'to',r2,'Million$ in Annual profit of the Company 95% of the time')\n",
        "print('Rupee Ranges from',np.divide(np.multiply(r1,45),10),'to',np.divide(np.multiply(r2,45),10),'Crore Rupees in Annual profit of the Company 95% of the time')\n"
      ],
      "metadata": {
        "colab": {
          "base_uri": "https://localhost:8080/"
        },
        "id": "vTNRsep4_cyf",
        "outputId": "04a46efa-9af2-4a15-92e2-381f98b006be"
      },
      "execution_count": 7,
      "outputs": [
        {
          "output_type": "stream",
          "name": "stdout",
          "text": [
            "Rupee Ranges from 2.2 to 21.8 Million$ in Annual profit of the Company 95% of the time\n",
            "Rupee Ranges from 9.900000000000002 to 98.1 Crore Rupees in Annual profit of the Company 95% of the time\n"
          ]
        }
      ]
    },
    {
      "cell_type": "markdown",
      "source": [
        "B. Specify the 5th percentile of profit (in Rupees) for the company\n",
        "\n"
      ],
      "metadata": {
        "id": "J5KiONZj__Me"
      }
    },
    {
      "cell_type": "code",
      "source": [
        "# Z value  = X_bar - Mew / Std pop\n",
        "# for percentile, X_percentile = (Zvalue * Std pop) + Mew\n",
        "Z_05_ = stats.norm.ppf(0.05)\n",
        "Fifth_percentile = (Z_05_ * Std) + Mean\n",
        "print('The 5th percentile of Profit for the company is',np.round(Fifth_percentile,2),'Million$')\n",
        "print('The 5th percentile of Profit for the company is',np.round((Fifth_percentile*45)/10,),'Crore Rupees')\n"
      ],
      "metadata": {
        "colab": {
          "base_uri": "https://localhost:8080/"
        },
        "id": "xEhNGWub_7rt",
        "outputId": "fce4c3ac-168c-4472-8fa4-99f9bcaeeb5c"
      },
      "execution_count": 8,
      "outputs": [
        {
          "output_type": "stream",
          "name": "stdout",
          "text": [
            "The 5th percentile of Profit for the company is 3.78 Million$\n",
            "The 5th percentile of Profit for the company is 17.0 Crore Rupees\n"
          ]
        }
      ]
    },
    {
      "cell_type": "markdown",
      "source": [
        "C. Which of the two divisions has a larger probability of making a loss in a given year?\n",
        "\n"
      ],
      "metadata": {
        "id": "nEh8ulD6AHt-"
      }
    },
    {
      "cell_type": "code",
      "source": [
        "# The probability of Division #1 making a loss\n",
        "print('The Probability of Division #1 making a loss is',np.round((stats.norm.cdf(0,5,3))*100,2),'%')\n",
        "\n",
        "# The probability of Division #2 making a loss\n",
        "print('The Probability of Division #2 making a loss is',np.round((stats.norm.cdf(0,7,4))*100,2),'%')\n",
        "\n",
        "Division_1 = (stats.norm.cdf(0,5,3))*100\n",
        "Division_2 = (stats.norm.cdf(0,7,4))*100\n",
        "\n",
        "if Division_1>Division_2:\n",
        "    print('The Division 1 has a larger Probability of making a loss')\n",
        "else:\n",
        "          print('The Division 2 has a larger Porbability of making a loss')\n"
      ],
      "metadata": {
        "colab": {
          "base_uri": "https://localhost:8080/"
        },
        "id": "_5METDJ9AFPn",
        "outputId": "709e1407-e412-466f-d460-7434c0051bd8"
      },
      "execution_count": 9,
      "outputs": [
        {
          "output_type": "stream",
          "name": "stdout",
          "text": [
            "The Probability of Division #1 making a loss is 4.78 %\n",
            "The Probability of Division #2 making a loss is 4.01 %\n",
            "The Division 1 has a larger Probability of making a loss\n"
          ]
        }
      ]
    },
    {
      "cell_type": "code",
      "source": [],
      "metadata": {
        "id": "Zcx3jg3KALxZ"
      },
      "execution_count": null,
      "outputs": []
    },
    {
      "cell_type": "code",
      "source": [],
      "metadata": {
        "id": "aMrZGgw4APH-"
      },
      "execution_count": null,
      "outputs": []
    },
    {
      "cell_type": "code",
      "source": [],
      "metadata": {
        "id": "yfTp18EbAPMZ"
      },
      "execution_count": null,
      "outputs": []
    }
  ]
}